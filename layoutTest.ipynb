{
 "cells": [
  {
   "cell_type": "code",
   "execution_count": 17,
   "metadata": {
    "collapsed": true,
    "ExecuteTime": {
     "end_time": "2024-07-26T10:40:31.604139Z",
     "start_time": "2024-07-26T10:40:31.593727Z"
    }
   },
   "outputs": [],
   "source": [
    "import numpy as np\n",
    "import umap\n",
    "import pickle"
   ]
  },
  {
   "cell_type": "code",
   "execution_count": 6,
   "outputs": [],
   "source": [
    "file_path = \"saved_precalculations/two_layer_mlp_net/class_average_signals.pickle\"\n",
    "with open(file_path, 'rb') as handle:\n",
    "    class_average_signals = pickle.load(handle)"
   ],
   "metadata": {
    "collapsed": false,
    "ExecuteTime": {
     "end_time": "2024-07-26T10:30:25.115166Z",
     "start_time": "2024-07-26T10:30:25.097385Z"
    }
   }
  },
  {
   "cell_type": "code",
   "execution_count": 9,
   "outputs": [
    {
     "data": {
      "text/plain": "10"
     },
     "execution_count": 9,
     "metadata": {},
     "output_type": "execute_result"
    }
   ],
   "source": [
    "len(class_average_signals)"
   ],
   "metadata": {
    "collapsed": false,
    "ExecuteTime": {
     "end_time": "2024-07-26T10:30:40.240507Z",
     "start_time": "2024-07-26T10:30:40.227293Z"
    }
   }
  },
  {
   "cell_type": "code",
   "execution_count": 10,
   "outputs": [
    {
     "data": {
      "text/plain": "3"
     },
     "execution_count": 10,
     "metadata": {},
     "output_type": "execute_result"
    }
   ],
   "source": [
    "len(class_average_signals[0])"
   ],
   "metadata": {
    "collapsed": false,
    "ExecuteTime": {
     "end_time": "2024-07-26T10:31:08.282470Z",
     "start_time": "2024-07-26T10:31:08.180001Z"
    }
   }
  },
  {
   "cell_type": "code",
   "execution_count": 21,
   "outputs": [
    {
     "data": {
      "text/plain": "(100, 10, 10)"
     },
     "execution_count": 21,
     "metadata": {},
     "output_type": "execute_result"
    }
   ],
   "source": [
    "np.transpose(np.stack([class_average_signals[i][2] for i in range(10)]),[1,2,0])"
   ],
   "metadata": {
    "collapsed": false,
    "ExecuteTime": {
     "end_time": "2024-07-26T10:41:02.889008Z",
     "start_time": "2024-07-26T10:41:02.879518Z"
    }
   }
  },
  {
   "cell_type": "code",
   "execution_count": 73,
   "outputs": [],
   "source": [
    "transposed_array = [[np.transpose(class_average_signals[i][j]) for j in range(len(class_average_signals[0]))] for i in range(len(class_average_signals))]"
   ],
   "metadata": {
    "collapsed": false,
    "ExecuteTime": {
     "end_time": "2024-07-26T12:56:08.533005Z",
     "start_time": "2024-07-26T12:56:08.484421Z"
    }
   }
  },
  {
   "cell_type": "code",
   "execution_count": 84,
   "outputs": [],
   "source": [
    "test =[np.concatenate((transposed_array[i][0], class_average_signals[i][0+1]), axis=1) for i in range(10)]"
   ],
   "metadata": {
    "collapsed": false,
    "ExecuteTime": {
     "end_time": "2024-07-26T13:02:18.944898Z",
     "start_time": "2024-07-26T13:02:18.892670Z"
    }
   }
  },
  {
   "cell_type": "code",
   "execution_count": 99,
   "outputs": [],
   "source": [
    "test2 = np.stack([np.concatenate((transposed_array[i][0], class_average_signals[i][0+1]), axis=1) for i in range(10)])"
   ],
   "metadata": {
    "collapsed": false,
    "ExecuteTime": {
     "end_time": "2024-07-26T13:05:51.658286Z",
     "start_time": "2024-07-26T13:05:51.616166Z"
    }
   }
  },
  {
   "cell_type": "code",
   "execution_count": 100,
   "outputs": [
    {
     "data": {
      "text/plain": "(200, 884)"
     },
     "execution_count": 100,
     "metadata": {},
     "output_type": "execute_result"
    }
   ],
   "source": [
    "test2[0].shape"
   ],
   "metadata": {
    "collapsed": false,
    "ExecuteTime": {
     "end_time": "2024-07-26T13:05:52.029203Z",
     "start_time": "2024-07-26T13:05:52.012657Z"
    }
   }
  },
  {
   "cell_type": "code",
   "execution_count": 88,
   "outputs": [
    {
     "data": {
      "text/plain": "(200, 884)"
     },
     "execution_count": 88,
     "metadata": {},
     "output_type": "execute_result"
    }
   ],
   "source": [
    "test[0].shape"
   ],
   "metadata": {
    "collapsed": false,
    "ExecuteTime": {
     "end_time": "2024-07-26T13:02:46.267624Z",
     "start_time": "2024-07-26T13:02:46.262108Z"
    }
   }
  },
  {
   "cell_type": "code",
   "execution_count": 101,
   "outputs": [],
   "source": [
    "layerwise_neuron_data = []\n",
    "transposed_array = [[np.transpose(class_average_signals[i][j]) for j in range(len(class_average_signals[0]))] for i in range(len(class_average_signals))]\n",
    "for index in range(0, len(class_average_signals[0]) - 1):\n",
    "    layer_array = np.transpose(np.stack([np.concatenate((transposed_array[i][index], class_average_signals[i][index+1]), axis=1) for i in range(10)]), [1, 2, 0])\n",
    "    layer_array = layer_array.reshape([layer_array.shape[0], np.prod(layer_array.shape[1:])])\n",
    "    layerwise_neuron_data.append(layer_array)"
   ],
   "metadata": {
    "collapsed": false,
    "ExecuteTime": {
     "end_time": "2024-07-26T13:06:28.004101Z",
     "start_time": "2024-07-26T13:06:27.993994Z"
    }
   }
  },
  {
   "cell_type": "code",
   "execution_count": 104,
   "outputs": [
    {
     "data": {
      "text/plain": "(100, 2100)"
     },
     "execution_count": 104,
     "metadata": {},
     "output_type": "execute_result"
    }
   ],
   "source": [
    "layerwise_neuron_data[1].shape"
   ],
   "metadata": {
    "collapsed": false,
    "ExecuteTime": {
     "end_time": "2024-07-26T13:06:40.323061Z",
     "start_time": "2024-07-26T13:06:40.320200Z"
    }
   }
  },
  {
   "cell_type": "code",
   "execution_count": 59,
   "outputs": [
    {
     "data": {
      "text/plain": "0.20820883"
     },
     "execution_count": 59,
     "metadata": {},
     "output_type": "execute_result"
    }
   ],
   "source": [
    "layerwise_neuron_data[1][1][723]"
   ],
   "metadata": {
    "collapsed": false,
    "ExecuteTime": {
     "end_time": "2024-07-26T12:38:50.016012Z",
     "start_time": "2024-07-26T12:38:50.004062Z"
    }
   }
  },
  {
   "cell_type": "code",
   "execution_count": null,
   "outputs": [],
   "source": [
    "from scipy.spatial.distance import pdist"
   ],
   "metadata": {
    "collapsed": false
   }
  },
  {
   "cell_type": "code",
   "execution_count": 35,
   "outputs": [
    {
     "name": "stdout",
     "output_type": "stream",
     "text": [
      "2.012479274554709\n",
      "2.039014531137324\n",
      "2.007270919365063\n",
      "2.0212861362812373\n",
      "2.0630029381599293\n",
      "2.053635368351505\n",
      "2.047920797627885\n",
      "2.062328654559933\n",
      "2.0369378074426296\n",
      "2.026715325929889\n",
      "2.0310408840316754\n",
      "1.993214412975715\n",
      "2.0122885423320165\n",
      "2.0229167208369496\n",
      "2.0329579027435476\n",
      "2.0405051772122773\n",
      "2.015348561387014\n",
      "1.9921154505856986\n",
      "2.0169795849833165\n",
      "2.0338969150705544\n"
     ]
    }
   ],
   "source": [
    "for rep in range(20):\n",
    "    coords = umap.UMAP(n_components=2, metric=\"euclidean\").fit_transform(layer_array)\n",
    "    dist = pdist(coords, \"euclidean\")\n",
    "    print(np.mean(dist))"
   ],
   "metadata": {
    "collapsed": false,
    "ExecuteTime": {
     "end_time": "2024-07-26T10:51:08.260794Z",
     "start_time": "2024-07-26T10:50:53.399704Z"
    }
   }
  },
  {
   "cell_type": "code",
   "execution_count": 32,
   "outputs": [
    {
     "data": {
      "text/plain": "(4950,)"
     },
     "execution_count": 32,
     "metadata": {},
     "output_type": "execute_result"
    }
   ],
   "source": [
    "dist = pdist(coords, \"euclidean\").shape"
   ],
   "metadata": {
    "collapsed": false,
    "ExecuteTime": {
     "end_time": "2024-07-26T10:48:09.263787Z",
     "start_time": "2024-07-26T10:48:09.250966Z"
    }
   }
  },
  {
   "cell_type": "code",
   "execution_count": 29,
   "outputs": [
    {
     "data": {
      "text/plain": "(100, 2)"
     },
     "execution_count": 29,
     "metadata": {},
     "output_type": "execute_result"
    }
   ],
   "source": [],
   "metadata": {
    "collapsed": false,
    "ExecuteTime": {
     "end_time": "2024-07-26T10:45:18.113Z",
     "start_time": "2024-07-26T10:45:18.110258Z"
    }
   }
  },
  {
   "cell_type": "code",
   "execution_count": 11,
   "outputs": [
    {
     "data": {
      "text/plain": "array([[0., 0., 0., ..., 0., 0., 0.],\n       [0., 0., 0., ..., 0., 0., 0.],\n       [0., 0., 0., ..., 0., 0., 0.],\n       ...,\n       [0., 0., 0., ..., 0., 0., 0.],\n       [0., 0., 0., ..., 0., 0., 0.],\n       [0., 0., 0., ..., 0., 0., 0.]], dtype=float32)"
     },
     "execution_count": 11,
     "metadata": {},
     "output_type": "execute_result"
    }
   ],
   "source": [
    "class_average_signals[0][0] 10x3xndarry(784x200)"
   ],
   "metadata": {
    "collapsed": false,
    "ExecuteTime": {
     "end_time": "2024-07-26T10:31:23.857841Z",
     "start_time": "2024-07-26T10:31:23.794264Z"
    }
   }
  },
  {
   "cell_type": "code",
   "execution_count": null,
   "outputs": [],
   "source": [],
   "metadata": {
    "collapsed": false
   }
  }
 ],
 "metadata": {
  "kernelspec": {
   "display_name": "Python 3",
   "language": "python",
   "name": "python3"
  },
  "language_info": {
   "codemirror_mode": {
    "name": "ipython",
    "version": 2
   },
   "file_extension": ".py",
   "mimetype": "text/x-python",
   "name": "python",
   "nbconvert_exporter": "python",
   "pygments_lexer": "ipython2",
   "version": "2.7.6"
  }
 },
 "nbformat": 4,
 "nbformat_minor": 0
}
