{
 "cells": [
  {
   "cell_type": "code",
   "execution_count": 1,
   "metadata": {
    "collapsed": true,
    "ExecuteTime": {
     "end_time": "2024-07-26T10:40:31.604139Z",
     "start_time": "2024-07-26T10:40:31.593727Z"
    }
   },
   "outputs": [],
   "source": [
    "import numpy as np\n",
    "import umap\n",
    "import pickle"
   ]
  },
  {
   "cell_type": "code",
   "execution_count": 2,
   "outputs": [],
   "source": [
    "file_path = \"saved_precalculations/two_layer_mlp_net/class_average_signals.pickle\"\n",
    "with open(file_path, 'rb') as handle:\n",
    "    class_average_signals = pickle.load(handle)"
   ],
   "metadata": {
    "collapsed": false,
    "ExecuteTime": {
     "end_time": "2024-07-26T10:30:25.115166Z",
     "start_time": "2024-07-26T10:30:25.097385Z"
    }
   }
  },
  {
   "cell_type": "code",
   "execution_count": 3,
   "outputs": [
    {
     "data": {
      "text/plain": "10"
     },
     "execution_count": 3,
     "metadata": {},
     "output_type": "execute_result"
    }
   ],
   "source": [
    "len(class_average_signals)"
   ],
   "metadata": {
    "collapsed": false,
    "ExecuteTime": {
     "end_time": "2024-07-26T10:30:40.240507Z",
     "start_time": "2024-07-26T10:30:40.227293Z"
    }
   }
  },
  {
   "cell_type": "code",
   "execution_count": 4,
   "outputs": [
    {
     "data": {
      "text/plain": "3"
     },
     "execution_count": 4,
     "metadata": {},
     "output_type": "execute_result"
    }
   ],
   "source": [
    "len(class_average_signals[0])"
   ],
   "metadata": {
    "collapsed": false,
    "ExecuteTime": {
     "end_time": "2024-07-26T10:31:08.282470Z",
     "start_time": "2024-07-26T10:31:08.180001Z"
    }
   }
  },
  {
   "cell_type": "code",
   "execution_count": 21,
   "outputs": [
    {
     "data": {
      "text/plain": "(100, 10, 10)"
     },
     "execution_count": 21,
     "metadata": {},
     "output_type": "execute_result"
    }
   ],
   "source": [
    "np.transpose(np.stack([class_average_signals[i][2] for i in range(10)]),[1,2,0])"
   ],
   "metadata": {
    "collapsed": false,
    "ExecuteTime": {
     "end_time": "2024-07-26T10:41:02.889008Z",
     "start_time": "2024-07-26T10:41:02.879518Z"
    }
   }
  },
  {
   "cell_type": "code",
   "execution_count": 73,
   "outputs": [],
   "source": [
    "transposed_array = [[np.transpose(class_average_signals[i][j]) for j in range(len(class_average_signals[0]))] for i in range(len(class_average_signals))]"
   ],
   "metadata": {
    "collapsed": false,
    "ExecuteTime": {
     "end_time": "2024-07-26T12:56:08.533005Z",
     "start_time": "2024-07-26T12:56:08.484421Z"
    }
   }
  },
  {
   "cell_type": "code",
   "execution_count": 84,
   "outputs": [],
   "source": [
    "test =[np.concatenate((transposed_array[i][0], class_average_signals[i][0+1]), axis=1) for i in range(10)]"
   ],
   "metadata": {
    "collapsed": false,
    "ExecuteTime": {
     "end_time": "2024-07-26T13:02:18.944898Z",
     "start_time": "2024-07-26T13:02:18.892670Z"
    }
   }
  },
  {
   "cell_type": "code",
   "execution_count": 99,
   "outputs": [],
   "source": [
    "test2 = np.stack([np.concatenate((transposed_array[i][0], class_average_signals[i][0+1]), axis=1) for i in range(10)])"
   ],
   "metadata": {
    "collapsed": false,
    "ExecuteTime": {
     "end_time": "2024-07-26T13:05:51.658286Z",
     "start_time": "2024-07-26T13:05:51.616166Z"
    }
   }
  },
  {
   "cell_type": "code",
   "execution_count": 100,
   "outputs": [
    {
     "data": {
      "text/plain": "(200, 884)"
     },
     "execution_count": 100,
     "metadata": {},
     "output_type": "execute_result"
    }
   ],
   "source": [
    "test2[0].shape"
   ],
   "metadata": {
    "collapsed": false,
    "ExecuteTime": {
     "end_time": "2024-07-26T13:05:52.029203Z",
     "start_time": "2024-07-26T13:05:52.012657Z"
    }
   }
  },
  {
   "cell_type": "code",
   "execution_count": 88,
   "outputs": [
    {
     "data": {
      "text/plain": "(200, 884)"
     },
     "execution_count": 88,
     "metadata": {},
     "output_type": "execute_result"
    }
   ],
   "source": [
    "test[0].shape"
   ],
   "metadata": {
    "collapsed": false,
    "ExecuteTime": {
     "end_time": "2024-07-26T13:02:46.267624Z",
     "start_time": "2024-07-26T13:02:46.262108Z"
    }
   }
  },
  {
   "cell_type": "code",
   "execution_count": 5,
   "outputs": [],
   "source": [
    "layerwise_neuron_data = []\n",
    "transposed_array = [[np.transpose(class_average_signals[i][j]) for j in range(len(class_average_signals[0]))] for i in range(len(class_average_signals))]\n",
    "for index in range(0, len(class_average_signals[0]) - 1):\n",
    "    layer_array = np.transpose(np.stack([np.concatenate((transposed_array[i][index], class_average_signals[i][index+1]), axis=1) for i in range(10)]), [1, 2, 0])\n",
    "    layer_array = layer_array.reshape([layer_array.shape[0], np.prod(layer_array.shape[1:])])\n",
    "    layerwise_neuron_data.append(layer_array)"
   ],
   "metadata": {
    "collapsed": false,
    "ExecuteTime": {
     "end_time": "2024-07-26T13:06:28.004101Z",
     "start_time": "2024-07-26T13:06:27.993994Z"
    }
   }
  },
  {
   "cell_type": "code",
   "execution_count": 6,
   "outputs": [],
   "source": [
    "embeddings_list = []\n",
    "for layer in layerwise_neuron_data:\n",
    "    embeddings_list.append(umap.UMAP(n_components=2, metric=\"euclidean\").fit_transform(layer))"
   ],
   "metadata": {
    "collapsed": false,
    "ExecuteTime": {
     "end_time": "2024-07-26T13:06:40.323061Z",
     "start_time": "2024-07-26T13:06:40.320200Z"
    }
   }
  },
  {
   "cell_type": "code",
   "execution_count": 7,
   "outputs": [],
   "source": [
    "from matplotlib import pyplot as plt"
   ],
   "metadata": {
    "collapsed": false
   }
  },
  {
   "cell_type": "code",
   "execution_count": null,
   "outputs": [],
   "source": [],
   "metadata": {
    "collapsed": false
   }
  },
  {
   "cell_type": "code",
   "execution_count": 8,
   "outputs": [],
   "source": [
    "np.mean(raw_embeddings, axis=0)"
   ],
   "metadata": {
    "collapsed": false
   }
  },
  {
   "cell_type": "code",
   "execution_count": 18,
   "outputs": [
    {
     "data": {
      "text/plain": "(100, 2)"
     },
     "execution_count": 18,
     "metadata": {},
     "output_type": "execute_result"
    }
   ],
   "source": [
    "embeddings_list[1].shape"
   ],
   "metadata": {
    "collapsed": false
   }
  },
  {
   "cell_type": "code",
   "execution_count": 12,
   "outputs": [
    {
     "data": {
      "text/plain": "<matplotlib.collections.PathCollection at 0x1d67d1b8e20>"
     },
     "execution_count": 12,
     "metadata": {},
     "output_type": "execute_result"
    },
    {
     "data": {
      "text/plain": "<Figure size 640x480 with 1 Axes>",
      "image/png": "[encoded data removed]"
     },
     "metadata": {},
     "output_type": "display_data"
    }
   ],
   "source": [
    "plt.scatter(embeddings_list[1][:][0], embeddings_list[1][:][1])"
   ],
   "metadata": {
    "collapsed": false
   }
  },
  {
   "cell_type": "code",
   "execution_count": 21,
   "outputs": [
    {
     "data": {
      "text/plain": "3.0755996e-07"
     },
     "execution_count": 21,
     "metadata": {},
     "output_type": "execute_result"
    }
   ],
   "source": [
    "np.mean(embeddings_list[1])"
   ],
   "metadata": {
    "collapsed": false
   }
  },
  {
   "cell_type": "code",
   "execution_count": 59,
   "outputs": [
    {
     "data": {
      "text/plain": "0.20820883"
     },
     "execution_count": 59,
     "metadata": {},
     "output_type": "execute_result"
    }
   ],
   "source": [
    "layerwise_neuron_data[1][1][723]"
   ],
   "metadata": {
    "collapsed": false,
    "ExecuteTime": {
     "end_time": "2024-07-26T12:38:50.016012Z",
     "start_time": "2024-07-26T12:38:50.004062Z"
    }
   }
  },
  {
   "cell_type": "code",
   "execution_count": 25,
   "outputs": [],
   "source": [
    "from scipy.spatial.distance import pdist"
   ],
   "metadata": {
    "collapsed": false
   }
  },
  {
   "cell_type": "code",
   "execution_count": 28,
   "outputs": [],
   "source": [
    "coords = umap.UMAP(n_components=2, metric=\"euclidean\").fit_transform(layer_array)\n",
    "mean = np.mean(coords, axis=0)\n",
    "coords = coords - mean\n",
    "dist = pdist(coords, \"euclidean\")"
   ],
   "metadata": {
    "collapsed": false
   }
  },
  {
   "cell_type": "code",
   "execution_count": 31,
   "outputs": [
    {
     "name": "stderr",
     "output_type": "stream",
     "text": [
      "C:\\Users\\chris\\AppData\\Local\\Programs\\Python\\Python39\\lib\\site-packages\\umap\\plot.py:20: UserWarning: The umap.plot package requires extra plotting libraries to be installed.\n",
      "    You can install these via pip using\n",
      "\n",
      "    pip install umap-learn[plot]\n",
      "\n",
      "    or via conda using\n",
      "\n",
      "     conda install pandas matplotlib datashader bokeh holoviews colorcet scikit-image\n",
      "    \n",
      "  warn(\n"
     ]
    },
    {
     "ename": "ImportError",
     "evalue": "umap.plot requires pandas matplotlib datashader bokeh holoviews scikit-image and colorcet to be installed",
     "output_type": "error",
     "traceback": [
      "\u001B[1;31m---------------------------------------------------------------------------\u001B[0m",
      "\u001B[1;31mImportError\u001B[0m                               Traceback (most recent call last)",
      "Cell \u001B[1;32mIn[31], line 2\u001B[0m\n\u001B[0;32m      1\u001B[0m \u001B[38;5;28;01mimport\u001B[39;00m \u001B[38;5;21;01mumap\u001B[39;00m\n\u001B[1;32m----> 2\u001B[0m \u001B[38;5;28;01mimport\u001B[39;00m \u001B[38;5;21;01mumap\u001B[39;00m\u001B[38;5;21;01m.\u001B[39;00m\u001B[38;5;21;01mplot\u001B[39;00m\n",
      "File \u001B[1;32m~\\AppData\\Local\\Programs\\Python\\Python39\\lib\\site-packages\\umap\\plot.py:31\u001B[0m\n\u001B[0;32m     19\u001B[0m \u001B[38;5;28;01mexcept\u001B[39;00m \u001B[38;5;167;01mImportError\u001B[39;00m:\n\u001B[0;32m     20\u001B[0m     warn(\n\u001B[0;32m     21\u001B[0m \u001B[38;5;250m        \u001B[39m\u001B[38;5;124;03m\"\"\"The umap.plot package requires extra plotting libraries to be installed.\u001B[39;00m\n\u001B[0;32m     22\u001B[0m \u001B[38;5;124;03m    You can install these via pip using\u001B[39;00m\n\u001B[1;32m   (...)\u001B[0m\n\u001B[0;32m     29\u001B[0m \u001B[38;5;124;03m    \"\"\"\u001B[39;00m\n\u001B[0;32m     30\u001B[0m     )\n\u001B[1;32m---> 31\u001B[0m     \u001B[38;5;28;01mraise\u001B[39;00m \u001B[38;5;167;01mImportError\u001B[39;00m(\n\u001B[0;32m     32\u001B[0m         \u001B[38;5;124m\"\u001B[39m\u001B[38;5;124mumap.plot requires pandas matplotlib datashader bokeh holoviews scikit-image and colorcet to be \u001B[39m\u001B[38;5;124m\"\u001B[39m\n\u001B[0;32m     33\u001B[0m         \u001B[38;5;124m\"\u001B[39m\u001B[38;5;124minstalled\u001B[39m\u001B[38;5;124m\"\u001B[39m\n\u001B[0;32m     34\u001B[0m     ) \u001B[38;5;28;01mfrom\u001B[39;00m \u001B[38;5;28mNone\u001B[39m\n\u001B[0;32m     36\u001B[0m \u001B[38;5;28;01mimport\u001B[39;00m \u001B[38;5;21;01msklearn\u001B[39;00m\u001B[38;5;21;01m.\u001B[39;00m\u001B[38;5;21;01mdecomposition\u001B[39;00m\n\u001B[0;32m     37\u001B[0m \u001B[38;5;28;01mimport\u001B[39;00m \u001B[38;5;21;01msklearn\u001B[39;00m\u001B[38;5;21;01m.\u001B[39;00m\u001B[38;5;21;01mcluster\u001B[39;00m\n",
      "\u001B[1;31mImportError\u001B[0m: umap.plot requires pandas matplotlib datashader bokeh holoviews scikit-image and colorcet to be installed"
     ]
    }
   ],
   "source": [
    "import umap\n",
    "import umap.plot"
   ],
   "metadata": {
    "collapsed": false
   }
  },
  {
   "cell_type": "code",
   "execution_count": 30,
   "outputs": [
    {
     "ename": "AttributeError",
     "evalue": "module 'umap' has no attribute 'plot'",
     "output_type": "error",
     "traceback": [
      "\u001B[1;31m---------------------------------------------------------------------------\u001B[0m",
      "\u001B[1;31mAttributeError\u001B[0m                            Traceback (most recent call last)",
      "Cell \u001B[1;32mIn[30], line 1\u001B[0m\n\u001B[1;32m----> 1\u001B[0m \u001B[43mumap\u001B[49m\u001B[38;5;241;43m.\u001B[39;49m\u001B[43mplot\u001B[49m\u001B[38;5;241m.\u001B[39minteractive(coords)\n",
      "\u001B[1;31mAttributeError\u001B[0m: module 'umap' has no attribute 'plot'"
     ]
    }
   ],
   "source": [
    "umap.plot.interactive(coords)"
   ],
   "metadata": {
    "collapsed": false
   }
  },
  {
   "cell_type": "code",
   "execution_count": 27,
   "outputs": [
    {
     "name": "stdout",
     "output_type": "stream",
     "text": [
      "2.257030688006613\n",
      "2.307342752506187\n",
      "2.3134186140184947\n",
      "2.3179354180417304\n",
      "2.2395593977338573\n",
      "2.2759552319033105\n",
      "2.31832333881005\n",
      "2.3384644574267317\n",
      "2.3125548490290795\n",
      "2.2510819219687384\n",
      "2.2844186901097903\n",
      "2.2648508276319093\n",
      "2.326250212233274\n",
      "2.2216505447450254\n",
      "2.26159927338089\n",
      "2.272192716090602\n",
      "2.284265615463478\n"
     ]
    },
    {
     "name": "stderr",
     "output_type": "stream",
     "text": [
      "\n",
      "KeyboardInterrupt\n",
      "\n"
     ]
    }
   ],
   "source": [
    "for rep in range(20):\n",
    "    coords = umap.UMAP(n_components=2, metric=\"euclidean\").fit_transform(layer_array)\n",
    "    mean = np.mean(coords, axis=0)\n",
    "    coords = coords - mean\n",
    "    dist = pdist(coords, \"euclidean\")\n",
    "    print(np.mean(dist))"
   ],
   "metadata": {
    "collapsed": false,
    "ExecuteTime": {
     "end_time": "2024-07-26T10:51:08.260794Z",
     "start_time": "2024-07-26T10:50:53.399704Z"
    }
   }
  },
  {
   "cell_type": "code",
   "execution_count": 32,
   "outputs": [
    {
     "data": {
      "text/plain": "(4950,)"
     },
     "execution_count": 32,
     "metadata": {},
     "output_type": "execute_result"
    }
   ],
   "source": [
    "dist = pdist(coords, \"euclidean\").shape"
   ],
   "metadata": {
    "collapsed": false,
    "ExecuteTime": {
     "end_time": "2024-07-26T10:48:09.263787Z",
     "start_time": "2024-07-26T10:48:09.250966Z"
    }
   }
  },
  {
   "cell_type": "code",
   "execution_count": 29,
   "outputs": [
    {
     "data": {
      "text/plain": "(100, 2)"
     },
     "execution_count": 29,
     "metadata": {},
     "output_type": "execute_result"
    }
   ],
   "source": [],
   "metadata": {
    "collapsed": false,
    "ExecuteTime": {
     "end_time": "2024-07-26T10:45:18.113Z",
     "start_time": "2024-07-26T10:45:18.110258Z"
    }
   }
  },
  {
   "cell_type": "code",
   "execution_count": 11,
   "outputs": [
    {
     "data": {
      "text/plain": "array([[0., 0., 0., ..., 0., 0., 0.],\n       [0., 0., 0., ..., 0., 0., 0.],\n       [0., 0., 0., ..., 0., 0., 0.],\n       ...,\n       [0., 0., 0., ..., 0., 0., 0.],\n       [0., 0., 0., ..., 0., 0., 0.],\n       [0., 0., 0., ..., 0., 0., 0.]], dtype=float32)"
     },
     "execution_count": 11,
     "metadata": {},
     "output_type": "execute_result"
    }
   ],
   "source": [
    "class_average_signals[0][0] 10x3xndarry(784x200)"
   ],
   "metadata": {
    "collapsed": false,
    "ExecuteTime": {
     "end_time": "2024-07-26T10:31:23.857841Z",
     "start_time": "2024-07-26T10:31:23.794264Z"
    }
   }
  },
  {
   "cell_type": "code",
   "execution_count": null,
   "outputs": [],
   "source": [],
   "metadata": {
    "collapsed": false
   }
  }
 ],
 "metadata": {
  "kernelspec": {
   "display_name": "Python 3",
   "language": "python",
   "name": "python3"
  },
  "language_info": {
   "codemirror_mode": {
    "name": "ipython",
    "version": 2
   },
   "file_extension": ".py",
   "mimetype": "text/x-python",
   "name": "python",
   "nbconvert_exporter": "python",
   "pygments_lexer": "ipython2",
   "version": "2.7.6"
  }
 },
 "nbformat": 4,
 "nbformat_minor": 0
}
