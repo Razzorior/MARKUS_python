{
 "cells": [
  {
   "cell_type": "code",
   "execution_count": 4,
   "metadata": {
    "collapsed": true,
    "ExecuteTime": {
     "end_time": "2024-05-02T08:38:49.299903Z",
     "start_time": "2024-05-02T08:38:49.261960Z"
    }
   },
   "outputs": [
    {
     "name": "stdout",
     "output_type": "stream",
     "text": [
      "GPU is available\n"
     ]
    }
   ],
   "source": [
    "# Import essential libraries\n",
    "import tensorflow as tf\n",
    "import numpy as np\n",
    "import json\n",
    "import pickle\n",
    "import sys\n",
    "import tensorflow.keras as keras\n",
    "import pandas as pd\n",
    "from matplotlib import pyplot as plt\n",
    "import tensorflow as tf\n",
    "import os\n",
    "\n",
    "gpu = len(tf.config.list_physical_devices('GPU')) > 0\n",
    "print(\"GPU is\", \"available\" if gpu else \"NOT AVAILABLE\")"
   ]
  },
  {
   "cell_type": "code",
   "execution_count": 13,
   "outputs": [],
   "source": [
    "# Load Data\n",
    "(x_train, y_train), (x_test, y_test) = keras.datasets.mnist.load_data()\n",
    "dataset = (tf.data.Dataset.from_tensor_slices((x_train, y_train)).shuffle(64)).batch(32)"
   ],
   "metadata": {
    "collapsed": false,
    "ExecuteTime": {
     "end_time": "2024-05-02T09:12:54.631839Z",
     "start_time": "2024-05-02T09:12:54.437487Z"
    }
   }
  },
  {
   "cell_type": "code",
   "execution_count": 3,
   "outputs": [],
   "source": [
    "# Ideas for inserting errors:\n",
    "# Manipulate Class so that it results in error\n",
    "# Cause Exploding / Vanishing Gradients.\n",
    "# Look at adverserial attacks\n",
    "# Look at Dropout"
   ],
   "metadata": {
    "collapsed": false,
    "ExecuteTime": {
     "end_time": "2024-04-30T10:23:29.714059Z",
     "start_time": "2024-04-30T10:23:29.700262Z"
    }
   }
  },
  {
   "cell_type": "code",
   "execution_count": 4,
   "outputs": [
    {
     "name": "stdout",
     "output_type": "stream",
     "text": [
      "Model: \"sequential\"\n",
      "_________________________________________________________________\n",
      " Layer (type)                Output Shape              Param #   \n",
      "=================================================================\n",
      " flatten (Flatten)           (None, 784)               0         \n",
      "                                                                 \n",
      " dense (Dense)               (None, 100)               78500     \n",
      "                                                                 \n",
      " dense_1 (Dense)             (None, 50)                5050      \n",
      "                                                                 \n",
      " dense_2 (Dense)             (None, 10)                510       \n",
      "                                                                 \n",
      "=================================================================\n",
      "Total params: 84060 (328.36 KB)\n",
      "Trainable params: 84060 (328.36 KB)\n",
      "Non-trainable params: 0 (0.00 Byte)\n",
      "_________________________________________________________________\n"
     ]
    }
   ],
   "source": [
    "# 2-Layer MlP with relu activations\n",
    "model = keras.Sequential()\n",
    "model.add(keras.Input(shape=(28,28,)))\n",
    "model.add(keras.layers.Flatten())\n",
    "model.add(keras.layers.Dense(100, activation=\"sigmoid\"))\n",
    "model.add(keras.layers.Dense(50, activation=\"sigmoid\"))\n",
    "model.add(keras.layers.Dense(10))\n",
    "\n",
    "model.summary()"
   ],
   "metadata": {
    "collapsed": false,
    "ExecuteTime": {
     "end_time": "2024-04-30T10:23:30.330665Z",
     "start_time": "2024-04-30T10:23:30.208841Z"
    }
   }
  },
  {
   "cell_type": "code",
   "execution_count": 5,
   "outputs": [],
   "source": [
    "# Apply loss function and optimizer, then compile the model\n",
    "loss_fn = keras.losses.SparseCategoricalCrossentropy(from_logits=True)\n",
    "optimizer = keras.optimizers.Adam()\n",
    "model.compile(optimizer=optimizer, loss=loss_fn, metrics=[\"acc\"])"
   ],
   "metadata": {
    "collapsed": false,
    "ExecuteTime": {
     "end_time": "2024-04-30T10:23:32.061583Z",
     "start_time": "2024-04-30T10:23:32.021134Z"
    }
   }
  },
  {
   "cell_type": "code",
   "execution_count": 6,
   "outputs": [
    {
     "name": "stdout",
     "output_type": "stream",
     "text": [
      "Epoch 1/10\n"
     ]
    },
    {
     "name": "stderr",
     "output_type": "stream",
     "text": [
      "2024-04-30 12:23:33.303710: I tensorflow/core/grappler/optimizers/custom_graph_optimizer_registry.cc:114] Plugin optimizer for device_type GPU is enabled.\n",
      "2024-04-30 12:23:33.319399: E tensorflow/core/grappler/optimizers/meta_optimizer.cc:954] model_pruner failed: INVALID_ARGUMENT: Graph does not contain terminal node Adam/AssignAddVariableOp.\n"
     ]
    },
    {
     "name": "stdout",
     "output_type": "stream",
     "text": [
      "1869/1875 [============================>.] - ETA: 0s - loss: 0.6462 - acc: 0.8383"
     ]
    },
    {
     "name": "stderr",
     "output_type": "stream",
     "text": [
      "2024-04-30 12:23:41.592607: I tensorflow/core/grappler/optimizers/custom_graph_optimizer_registry.cc:114] Plugin optimizer for device_type GPU is enabled.\n"
     ]
    },
    {
     "name": "stdout",
     "output_type": "stream",
     "text": [
      "1875/1875 [==============================] - 9s 5ms/step - loss: 0.6453 - acc: 0.8386 - val_loss: 0.3828 - val_acc: 0.8869\n",
      "Epoch 2/10\n",
      "1875/1875 [==============================] - 9s 5ms/step - loss: 0.3607 - acc: 0.8911 - val_loss: 0.3174 - val_acc: 0.9040\n",
      "Epoch 3/10\n",
      "1875/1875 [==============================] - 9s 5ms/step - loss: 0.3190 - acc: 0.9024 - val_loss: 0.3125 - val_acc: 0.9041\n",
      "Epoch 4/10\n",
      "1875/1875 [==============================] - 9s 5ms/step - loss: 0.3063 - acc: 0.9054 - val_loss: 0.3053 - val_acc: 0.9064\n",
      "Epoch 5/10\n",
      "1875/1875 [==============================] - 9s 5ms/step - loss: 0.2898 - acc: 0.9116 - val_loss: 0.2814 - val_acc: 0.9164\n",
      "Epoch 6/10\n",
      "1875/1875 [==============================] - 9s 5ms/step - loss: 0.2743 - acc: 0.9153 - val_loss: 0.2598 - val_acc: 0.9211\n",
      "Epoch 7/10\n",
      "1875/1875 [==============================] - 8s 4ms/step - loss: 0.2547 - acc: 0.9204 - val_loss: 0.2410 - val_acc: 0.9279\n",
      "Epoch 8/10\n",
      "1875/1875 [==============================] - 9s 5ms/step - loss: 0.2497 - acc: 0.9230 - val_loss: 0.2452 - val_acc: 0.9250\n",
      "Epoch 9/10\n",
      "1875/1875 [==============================] - 8s 4ms/step - loss: 0.2543 - acc: 0.9222 - val_loss: 0.2413 - val_acc: 0.9282\n",
      "Epoch 10/10\n",
      "1875/1875 [==============================] - 8s 4ms/step - loss: 0.2418 - acc: 0.9243 - val_loss: 0.2281 - val_acc: 0.9309\n"
     ]
    },
    {
     "data": {
      "text/plain": "<keras.src.callbacks.History at 0x28725c610>"
     },
     "execution_count": 6,
     "metadata": {},
     "output_type": "execute_result"
    }
   ],
   "source": [
    "# Train the model on dataset for given epochs\n",
    "model.fit(x_train, y_train, batch_size=32, epochs=10, validation_data=(x_test, y_test))"
   ],
   "metadata": {
    "collapsed": false,
    "ExecuteTime": {
     "end_time": "2024-04-30T10:25:00.462768Z",
     "start_time": "2024-04-30T10:23:33.077179Z"
    }
   }
  },
  {
   "cell_type": "code",
   "execution_count": 7,
   "outputs": [],
   "source": [
    "# Save the model at the correct path\n",
    "file_name = \"two_layer_mlp.keras\"\n",
    "model.save('saved_models/' + file_name)"
   ],
   "metadata": {
    "collapsed": false,
    "ExecuteTime": {
     "end_time": "2024-04-30T10:25:39.395733Z",
     "start_time": "2024-04-30T10:25:39.339867Z"
    }
   }
  },
  {
   "cell_type": "code",
   "execution_count": 176,
   "outputs": [
    {
     "name": "stdout",
     "output_type": "stream",
     "text": [
      "[Errno 17] File exists: 'saved_precalculations/two_layer_mlp'\n",
      "Starting with calculations\n",
      "Currently at batch: 0\n",
      "Currently at batch: 1\n",
      "Currently at batch: 2\n",
      "Currently at batch: 3\n",
      "Currently at batch: 4\n",
      "Currently at batch: 5\n",
      "Currently at batch: 6\n",
      "Currently at batch: 7\n",
      "Currently at batch: 8\n",
      "Currently at batch: 9\n",
      "Currently at batch: 10\n",
      "Currently at batch: 11\n",
      "Currently at batch: 12\n",
      "Currently at batch: 13\n",
      "Currently at batch: 14\n",
      "Currently at batch: 15\n",
      "Currently at batch: 16\n",
      "Currently at batch: 17\n",
      "Done with calculations. Saving to file.\n",
      "Starting with calculations\n",
      "Currently at batch: 0\n",
      "Currently at batch: 1\n",
      "Currently at batch: 2\n",
      "Currently at batch: 3\n",
      "Currently at batch: 4\n",
      "Currently at batch: 5\n",
      "Currently at batch: 6\n",
      "Currently at batch: 7\n",
      "Currently at batch: 8\n",
      "Currently at batch: 9\n",
      "Currently at batch: 10\n",
      "Currently at batch: 11\n",
      "Currently at batch: 12\n",
      "Currently at batch: 13\n",
      "Currently at batch: 14\n",
      "Currently at batch: 15\n",
      "Currently at batch: 16\n",
      "Currently at batch: 17\n",
      "Done with calculations. Saving to file.\n",
      "Starting with calculations\n",
      "Currently at batch: 0\n",
      "Currently at batch: 1\n",
      "Currently at batch: 2\n",
      "Currently at batch: 3\n",
      "Currently at batch: 4\n",
      "Currently at batch: 5\n",
      "Currently at batch: 6\n",
      "Currently at batch: 7\n",
      "Currently at batch: 8\n",
      "Currently at batch: 9\n",
      "Currently at batch: 10\n",
      "Currently at batch: 11\n",
      "Currently at batch: 12\n",
      "Currently at batch: 13\n",
      "Currently at batch: 14\n",
      "Currently at batch: 15\n",
      "Currently at batch: 16\n",
      "Currently at batch: 17\n",
      "Done with calculations. Saving to file.\n"
     ]
    }
   ],
   "source": [
    "name = 'two_layer_mlp'\n",
    "create_precalculations(name)\n"
   ],
   "metadata": {
    "collapsed": false,
    "ExecuteTime": {
     "end_time": "2024-05-02T14:10:29.913472Z",
     "start_time": "2024-05-02T14:10:29.226480Z"
    }
   }
  },
  {
   "cell_type": "code",
   "execution_count": 175,
   "outputs": [],
   "source": [
    "# Add functions that need to be recomputed after every new model (precalculations)\n",
    "# Add automatic creation of folder\n",
    "def create_precalculations(model_name):\n",
    "    model_name = 'two_layer_mlp'\n",
    "    model = keras.models.load_model('saved_models/' + model_name + '.keras')\n",
    "\n",
    "    # Create Folder for precalculations, if it doesn't exist yet.\n",
    "    save_file_path = 'saved_precalculations/' + model_name\n",
    "    try:\n",
    "        os.mkdir(save_file_path)\n",
    "    except OSError as error:\n",
    "        print(error)\n",
    "\n",
    "    create_subset(model, 'saved_precalculations/' + model_name + '/subset_activations_1.pickle')\n",
    "    create_subset(model, 'saved_precalculations/' + model_name + '/subset_activations_2.pickle')\n",
    "    create_subset(model, 'saved_precalculations/' + model_name + '/subset_activations_3.pickle')"
   ],
   "metadata": {
    "collapsed": false,
    "ExecuteTime": {
     "end_time": "2024-05-02T14:10:27.072042Z",
     "start_time": "2024-05-02T14:10:27.016173Z"
    }
   }
  },
  {
   "cell_type": "code",
   "execution_count": 168,
   "outputs": [],
   "source": [
    "def create_subset(model, file_path=None):\n",
    "    dataset = (tf.data.Dataset.from_tensor_slices((x_train, y_train)).shuffle(64)).batch(32)\n",
    "    partial_output_models = []\n",
    "\n",
    "    dataset_size = sum(1 for _ in dataset)\n",
    "    one_percent_size = dataset_size // 100\n",
    "\n",
    "    # Take the first 1% of the dataset\n",
    "    one_percent_dataset = dataset.take(one_percent_size)\n",
    "\n",
    "    functions = []\n",
    "    results = []\n",
    "    for i in range(len(model.layers)):\n",
    "        functions.append(K.function([model.layers[i].input],[model.layers[i].output]))\n",
    "\n",
    "    print(\"Starting with calculations\")\n",
    "    layer_outputs = []\n",
    "    for i, (batch, y) in enumerate(one_percent_dataset):\n",
    "        print(\"Currently at batch: \" + str(i))\n",
    "\n",
    "        output = functions[0](batch)\n",
    "        if i == 0:\n",
    "            results.append(np.transpose(np.squeeze(output, axis=0)))\n",
    "        else:\n",
    "            results[0] = np.concatenate([results[0], np.transpose(np.squeeze(output, axis=0))], axis=1)\n",
    "\n",
    "        for j in range(1, len(functions)):\n",
    "            tmp = functions[j](output)\n",
    "            output = tmp\n",
    "            if i == 0:\n",
    "                results.append(np.transpose(np.squeeze(output, axis=0)))\n",
    "            else:\n",
    "                results[j] = np.concatenate([results[j], np.transpose(np.squeeze(output, axis=0))], axis=1)\n",
    "\n",
    "    print(\"Done with calculations. Saving to file.\")\n",
    "\n",
    "    with open(file_path, 'wb') as handle:\n",
    "        pickle.dump(layer_outputs, handle, protocol=pickle.HIGHEST_PROTOCOL)"
   ],
   "metadata": {
    "collapsed": false,
    "ExecuteTime": {
     "end_time": "2024-05-02T14:09:02.762527Z",
     "start_time": "2024-05-02T14:09:02.746604Z"
    }
   }
  }
 ],
 "metadata": {
  "kernelspec": {
   "display_name": "Python 3",
   "language": "python",
   "name": "python3"
  },
  "language_info": {
   "codemirror_mode": {
    "name": "ipython",
    "version": 2
   },
   "file_extension": ".py",
   "mimetype": "text/x-python",
   "name": "python",
   "nbconvert_exporter": "python",
   "pygments_lexer": "ipython2",
   "version": "2.7.6"
  }
 },
 "nbformat": 4,
 "nbformat_minor": 0
}
