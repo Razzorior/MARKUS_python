{
 "cells": [
  {
   "cell_type": "code",
   "execution_count": 1,
   "metadata": {
    "collapsed": true,
    "ExecuteTime": {
     "end_time": "2024-05-29T19:02:29.441155Z",
     "start_time": "2024-05-29T19:02:29.434935Z"
    }
   },
   "outputs": [
    {
     "name": "stdout",
     "output_type": "stream",
     "text": [
      "GPU is available\n"
     ]
    }
   ],
   "source": [
    "# Import essential libraries\n",
    "import tensorflow as tf\n",
    "import numpy as np\n",
    "import json\n",
    "import pickle\n",
    "import sys\n",
    "import tensorflow.keras as keras\n",
    "import pandas as pd\n",
    "from matplotlib import pyplot as plt\n",
    "from tensorflow.keras import backend as K\n",
    "import tensorflow as tf\n",
    "import os\n",
    "from custom_objects import custom_dead_relu_initializer\n",
    "\n",
    "gpu = len(tf.config.list_physical_devices('GPU')) > 0\n",
    "print(\"GPU is\", \"available\" if gpu else \"NOT AVAILABLE\")"
   ]
  },
  {
   "cell_type": "code",
   "execution_count": 2,
   "outputs": [],
   "source": [
    "# Load Data\n",
    "(x_train_unnormalized, y_train), (x_test_unnormalized, y_test) = keras.datasets.mnist.load_data()\n",
    "x_train = x_train_unnormalized / 255.0\n",
    "x_test = x_test_unnormalized / 255.0\n",
    "# Inserting error:\n",
    "#y_train = np.where(y_train == 7, 1, y_train)\n",
    "dataset = (tf.data.Dataset.from_tensor_slices((x_train, y_train)).shuffle(64)).batch(32)"
   ],
   "metadata": {
    "collapsed": false,
    "ExecuteTime": {
     "end_time": "2024-05-02T09:12:54.631839Z",
     "start_time": "2024-05-02T09:12:54.437487Z"
    }
   }
  },
  {
   "cell_type": "code",
   "execution_count": 3,
   "outputs": [],
   "source": [
    "# Ideas for inserting errors:\n",
    "# Manipulate Class so that it results in error\n",
    "# Cause Exploding / Vanishing Gradients.\n",
    "# Look at adverserial attacks\n",
    "# Look at Dropout"
   ],
   "metadata": {
    "collapsed": false,
    "ExecuteTime": {
     "end_time": "2024-04-30T10:23:29.714059Z",
     "start_time": "2024-04-30T10:23:29.700262Z"
    }
   }
  },
  {
   "cell_type": "code",
   "execution_count": 8,
   "outputs": [
    {
     "name": "stdout",
     "output_type": "stream",
     "text": [
      "Epoch 1/10\n",
      "1875/1875 [==============================] - 3s 1ms/step - loss: 2.9755 - acc: 0.7831 - val_loss: 1.2292 - val_acc: 0.8545\n",
      "Epoch 2/10\n",
      "1875/1875 [==============================] - 3s 1ms/step - loss: 1.1887 - acc: 0.8541 - val_loss: 1.1331 - val_acc: 0.8686\n",
      "Epoch 3/10\n",
      "1875/1875 [==============================] - 3s 1ms/step - loss: 1.1204 - acc: 0.8655 - val_loss: 1.0653 - val_acc: 0.8677\n",
      "Epoch 4/10\n",
      "1875/1875 [==============================] - 3s 1ms/step - loss: 1.0811 - acc: 0.8688 - val_loss: 1.0780 - val_acc: 0.8611\n",
      "Epoch 5/10\n",
      "1875/1875 [==============================] - 2s 1ms/step - loss: 1.0543 - acc: 0.8704 - val_loss: 1.0124 - val_acc: 0.8772\n",
      "Epoch 6/10\n",
      "1875/1875 [==============================] - 3s 1ms/step - loss: 1.0311 - acc: 0.8740 - val_loss: 1.0023 - val_acc: 0.8705\n",
      "Epoch 7/10\n",
      "1875/1875 [==============================] - 3s 1ms/step - loss: 1.0168 - acc: 0.8730 - val_loss: 1.0174 - val_acc: 0.8774\n",
      "Epoch 8/10\n",
      "1875/1875 [==============================] - 3s 1ms/step - loss: 1.0057 - acc: 0.8730 - val_loss: 0.9880 - val_acc: 0.8764\n",
      "Epoch 9/10\n",
      "1875/1875 [==============================] - 3s 1ms/step - loss: 0.9959 - acc: 0.8740 - val_loss: 0.9585 - val_acc: 0.8869\n",
      "Epoch 10/10\n",
      "1875/1875 [==============================] - 3s 1ms/step - loss: 0.9866 - acc: 0.8749 - val_loss: 0.9836 - val_acc: 0.8718\n"
     ]
    },
    {
     "data": {
      "text/plain": "<keras.callbacks.History at 0x2882f283370>"
     },
     "execution_count": 8,
     "metadata": {},
     "output_type": "execute_result"
    }
   ],
   "source": [
    "# Vanishing gradient model\n",
    "model = keras.Sequential()\n",
    "model.add(keras.Input(shape=(28,28,)))\n",
    "model.add(keras.layers.Flatten())\n",
    "model.add(keras.layers.Dense(200, activation='tanh',  kernel_regularizer=keras.regularizers.l1(l=0.01)))\n",
    "model.add(keras.layers.Dense(100, activation='tanh',  kernel_regularizer=keras.regularizers.l1(l=0.01)))\n",
    "model.add(keras.layers.Dense(10))\n",
    "\n",
    "\n",
    "# Apply loss function and optimizer, then compile the model\n",
    "loss_fn = keras.losses.SparseCategoricalCrossentropy(from_logits=True)\n",
    "optimizer = keras.optimizers.Adam()\n",
    "model.compile(optimizer=optimizer, loss=loss_fn, metrics=[\"acc\"])\n",
    "\n",
    "# Train the model on dataset for given epochs\n",
    "model.fit(x_train, y_train, batch_size=32, epochs=10, validation_data=(x_test, y_test))"
   ],
   "metadata": {
    "collapsed": false,
    "ExecuteTime": {
     "end_time": "2024-04-30T10:23:30.330665Z",
     "start_time": "2024-04-30T10:23:30.208841Z"
    }
   }
  },
  {
   "cell_type": "code",
   "execution_count": 17,
   "outputs": [
    {
     "name": "stdout",
     "output_type": "stream",
     "text": [
      "Epoch 1/10\n",
      "1875/1875 [==============================] - 3s 1ms/step - loss: 1.4224 - acc: 0.5134 - val_loss: 0.9988 - val_acc: 0.6633\n",
      "Epoch 2/10\n",
      "1875/1875 [==============================] - 2s 1ms/step - loss: 1.1662 - acc: 0.5772 - val_loss: 1.7400 - val_acc: 0.5169\n",
      "Epoch 3/10\n",
      "1875/1875 [==============================] - 2s 1ms/step - loss: 1.5438 - acc: 0.3706 - val_loss: 1.4963 - val_acc: 0.3680\n",
      "Epoch 4/10\n",
      "1875/1875 [==============================] - 2s 1ms/step - loss: 1.7170 - acc: 0.3090 - val_loss: 1.7053 - val_acc: 0.2816\n",
      "Epoch 5/10\n",
      "1875/1875 [==============================] - 2s 1ms/step - loss: 1.6202 - acc: 0.2989 - val_loss: 1.5796 - val_acc: 0.2878\n",
      "Epoch 6/10\n",
      "1875/1875 [==============================] - 2s 1ms/step - loss: 1.6975 - acc: 0.2867 - val_loss: 1.6433 - val_acc: 0.3034\n",
      "Epoch 7/10\n",
      "1875/1875 [==============================] - 2s 1ms/step - loss: 1.9821 - acc: 0.2548 - val_loss: 1.8137 - val_acc: 0.2460\n",
      "Epoch 8/10\n",
      "1875/1875 [==============================] - 2s 1ms/step - loss: 1.7515 - acc: 0.2874 - val_loss: 1.6898 - val_acc: 0.3000\n",
      "Epoch 9/10\n",
      "1875/1875 [==============================] - 2s 1ms/step - loss: 1.9041 - acc: 0.2568 - val_loss: 2.0421 - val_acc: 0.2090\n",
      "Epoch 10/10\n",
      "1875/1875 [==============================] - 2s 1ms/step - loss: 2.0121 - acc: 0.1984 - val_loss: 1.9893 - val_acc: 0.2114\n"
     ]
    },
    {
     "data": {
      "text/plain": "<keras.callbacks.History at 0x28bd8ee3730>"
     },
     "execution_count": 17,
     "metadata": {},
     "output_type": "execute_result"
    }
   ],
   "source": [
    "# Exploading gradient model\n",
    "model = keras.Sequential()\n",
    "model.add(keras.Input(shape=(28,28,)))\n",
    "model.add(keras.layers.Flatten())\n",
    "model.add(keras.layers.Dense(200, activation='relu'))\n",
    "model.add(keras.layers.Dense(100, activation='relu'))\n",
    "model.add(keras.layers.Dense(10))\n",
    "\n",
    "\n",
    "# Apply loss function and optimizer, then compile the model\n",
    "loss_fn = keras.losses.SparseCategoricalCrossentropy(from_logits=True)\n",
    "optimizer = keras.optimizers.SGD(learning_rate=1.0)\n",
    "model.compile(optimizer=optimizer, loss=loss_fn, metrics=[\"acc\"])\n",
    "\n",
    "# Train the model on dataset for given epochs\n",
    "model.fit(x_train, y_train, batch_size=32, epochs=1, validation_data=(x_test, y_test))"
   ],
   "metadata": {
    "collapsed": false
   }
  },
  {
   "cell_type": "code",
   "execution_count": 20,
   "outputs": [
    {
     "name": "stdout",
     "output_type": "stream",
     "text": [
      "Epoch 1/200\n",
      "1875/1875 [==============================] - 3s 1ms/step - loss: 0.2440 - acc: 0.9273 - val_loss: 0.1359 - val_acc: 0.9587\n",
      "Epoch 2/200\n",
      "1875/1875 [==============================] - 2s 1ms/step - loss: 0.1141 - acc: 0.9656 - val_loss: 0.0968 - val_acc: 0.9706\n",
      "Epoch 3/200\n",
      "1875/1875 [==============================] - 2s 1ms/step - loss: 0.0776 - acc: 0.9762 - val_loss: 0.0899 - val_acc: 0.9717\n",
      "Epoch 4/200\n",
      "1875/1875 [==============================] - 2s 1ms/step - loss: 0.0559 - acc: 0.9827 - val_loss: 0.0854 - val_acc: 0.9732\n",
      "Epoch 5/200\n",
      "1875/1875 [==============================] - 2s 1ms/step - loss: 0.0419 - acc: 0.9865 - val_loss: 0.0845 - val_acc: 0.9723\n",
      "Epoch 6/200\n",
      "1875/1875 [==============================] - 2s 1ms/step - loss: 0.0325 - acc: 0.9899 - val_loss: 0.0780 - val_acc: 0.9777\n",
      "Epoch 7/200\n",
      "1875/1875 [==============================] - 3s 2ms/step - loss: 0.0254 - acc: 0.9916 - val_loss: 0.0769 - val_acc: 0.9752\n",
      "Epoch 8/200\n",
      "1875/1875 [==============================] - 3s 2ms/step - loss: 0.0200 - acc: 0.9937 - val_loss: 0.0813 - val_acc: 0.9770\n",
      "Epoch 9/200\n",
      "1875/1875 [==============================] - 3s 2ms/step - loss: 0.0174 - acc: 0.9945 - val_loss: 0.0808 - val_acc: 0.9760\n",
      "Epoch 10/200\n",
      "1875/1875 [==============================] - 3s 2ms/step - loss: 0.0160 - acc: 0.9948 - val_loss: 0.0852 - val_acc: 0.9774\n",
      "Epoch 11/200\n",
      "1875/1875 [==============================] - 3s 2ms/step - loss: 0.0129 - acc: 0.9960 - val_loss: 0.0846 - val_acc: 0.9753\n",
      "Epoch 12/200\n",
      "1875/1875 [==============================] - 3s 2ms/step - loss: 0.0110 - acc: 0.9964 - val_loss: 0.0816 - val_acc: 0.9791\n",
      "Epoch 13/200\n",
      "1875/1875 [==============================] - 3s 2ms/step - loss: 0.0115 - acc: 0.9960 - val_loss: 0.0938 - val_acc: 0.9772\n",
      "Epoch 14/200\n",
      "1875/1875 [==============================] - 3s 2ms/step - loss: 0.0103 - acc: 0.9965 - val_loss: 0.0993 - val_acc: 0.9761\n",
      "Epoch 15/200\n",
      "1875/1875 [==============================] - 3s 2ms/step - loss: 0.0098 - acc: 0.9965 - val_loss: 0.0933 - val_acc: 0.9769\n",
      "Epoch 16/200\n",
      "1875/1875 [==============================] - 3s 1ms/step - loss: 0.0082 - acc: 0.9974 - val_loss: 0.0904 - val_acc: 0.9776\n",
      "Epoch 17/200\n",
      "1875/1875 [==============================] - 3s 2ms/step - loss: 0.0084 - acc: 0.9974 - val_loss: 0.0901 - val_acc: 0.9770\n",
      "Epoch 18/200\n",
      "1875/1875 [==============================] - 3s 1ms/step - loss: 0.0102 - acc: 0.9966 - val_loss: 0.0944 - val_acc: 0.9779\n",
      "Epoch 19/200\n",
      "1875/1875 [==============================] - 3s 2ms/step - loss: 0.0066 - acc: 0.9978 - val_loss: 0.1020 - val_acc: 0.9764\n",
      "Epoch 20/200\n",
      "1875/1875 [==============================] - 3s 1ms/step - loss: 0.0062 - acc: 0.9981 - val_loss: 0.0994 - val_acc: 0.9769\n",
      "Epoch 21/200\n",
      "1875/1875 [==============================] - 3s 2ms/step - loss: 0.0077 - acc: 0.9974 - val_loss: 0.0947 - val_acc: 0.9788\n",
      "Epoch 22/200\n",
      "1875/1875 [==============================] - 3s 2ms/step - loss: 0.0068 - acc: 0.9976 - val_loss: 0.1023 - val_acc: 0.9776\n",
      "Epoch 23/200\n",
      "1875/1875 [==============================] - 3s 2ms/step - loss: 0.0058 - acc: 0.9982 - val_loss: 0.1065 - val_acc: 0.9768\n",
      "Epoch 24/200\n",
      "1875/1875 [==============================] - 3s 2ms/step - loss: 0.0070 - acc: 0.9976 - val_loss: 0.1034 - val_acc: 0.9772\n",
      "Epoch 25/200\n",
      "1875/1875 [==============================] - 3s 2ms/step - loss: 0.0068 - acc: 0.9976 - val_loss: 0.1129 - val_acc: 0.9757\n",
      "Epoch 26/200\n",
      "1875/1875 [==============================] - 3s 2ms/step - loss: 0.0053 - acc: 0.9983 - val_loss: 0.1061 - val_acc: 0.9783\n",
      "Epoch 27/200\n",
      "1875/1875 [==============================] - 3s 2ms/step - loss: 0.0060 - acc: 0.9980 - val_loss: 0.1024 - val_acc: 0.9778\n",
      "Epoch 28/200\n",
      "1875/1875 [==============================] - 3s 1ms/step - loss: 0.0056 - acc: 0.9982 - val_loss: 0.0983 - val_acc: 0.9782\n",
      "Epoch 29/200\n",
      "1875/1875 [==============================] - 3s 1ms/step - loss: 0.0049 - acc: 0.9984 - val_loss: 0.0970 - val_acc: 0.9792\n",
      "Epoch 30/200\n",
      "1875/1875 [==============================] - 3s 1ms/step - loss: 0.0059 - acc: 0.9981 - val_loss: 0.1009 - val_acc: 0.9776\n",
      "Epoch 31/200\n",
      "1875/1875 [==============================] - 3s 1ms/step - loss: 0.0064 - acc: 0.9980 - val_loss: 0.1163 - val_acc: 0.9770\n",
      "Epoch 32/200\n",
      "1875/1875 [==============================] - 3s 2ms/step - loss: 0.0057 - acc: 0.9981 - val_loss: 0.1052 - val_acc: 0.9797\n",
      "Epoch 33/200\n",
      "1875/1875 [==============================] - 3s 1ms/step - loss: 0.0031 - acc: 0.9990 - val_loss: 0.1113 - val_acc: 0.9770\n",
      "Epoch 34/200\n",
      "1875/1875 [==============================] - 3s 2ms/step - loss: 0.0060 - acc: 0.9980 - val_loss: 0.1117 - val_acc: 0.9778\n",
      "Epoch 35/200\n",
      "1875/1875 [==============================] - 3s 1ms/step - loss: 0.0051 - acc: 0.9984 - val_loss: 0.1125 - val_acc: 0.9778\n",
      "Epoch 36/200\n",
      "1875/1875 [==============================] - 3s 2ms/step - loss: 0.0052 - acc: 0.9983 - val_loss: 0.1094 - val_acc: 0.9800\n",
      "Epoch 37/200\n",
      "1875/1875 [==============================] - 3s 1ms/step - loss: 0.0024 - acc: 0.9992 - val_loss: 0.1116 - val_acc: 0.9775\n",
      "Epoch 38/200\n",
      "1875/1875 [==============================] - 3s 2ms/step - loss: 0.0091 - acc: 0.9970 - val_loss: 0.1318 - val_acc: 0.9751\n",
      "Epoch 39/200\n",
      "1875/1875 [==============================] - 3s 1ms/step - loss: 0.0037 - acc: 0.9988 - val_loss: 0.1171 - val_acc: 0.9772\n",
      "Epoch 40/200\n",
      "1875/1875 [==============================] - 3s 2ms/step - loss: 0.0028 - acc: 0.9992 - val_loss: 0.1286 - val_acc: 0.9775\n",
      "Epoch 41/200\n",
      "1875/1875 [==============================] - 3s 1ms/step - loss: 0.0063 - acc: 0.9977 - val_loss: 0.1225 - val_acc: 0.9769\n",
      "Epoch 42/200\n",
      "1875/1875 [==============================] - 3s 1ms/step - loss: 0.0051 - acc: 0.9983 - val_loss: 0.1114 - val_acc: 0.9763\n",
      "Epoch 43/200\n",
      "1875/1875 [==============================] - 3s 1ms/step - loss: 0.0043 - acc: 0.9986 - val_loss: 0.1159 - val_acc: 0.9772\n",
      "Epoch 44/200\n",
      "1875/1875 [==============================] - 3s 1ms/step - loss: 0.0059 - acc: 0.9979 - val_loss: 0.1230 - val_acc: 0.9760\n",
      "Epoch 45/200\n",
      "1875/1875 [==============================] - 3s 1ms/step - loss: 0.0023 - acc: 0.9993 - val_loss: 0.1286 - val_acc: 0.9745\n",
      "Epoch 46/200\n",
      "1875/1875 [==============================] - 3s 1ms/step - loss: 0.0057 - acc: 0.9980 - val_loss: 0.1279 - val_acc: 0.9771\n",
      "Epoch 47/200\n",
      "1875/1875 [==============================] - 3s 2ms/step - loss: 0.0064 - acc: 0.9979 - val_loss: 0.1183 - val_acc: 0.9777\n",
      "Epoch 48/200\n",
      "1875/1875 [==============================] - 3s 2ms/step - loss: 0.0054 - acc: 0.9984 - val_loss: 0.1242 - val_acc: 0.9771\n",
      "Epoch 49/200\n",
      "1875/1875 [==============================] - 3s 2ms/step - loss: 0.0038 - acc: 0.9988 - val_loss: 0.1174 - val_acc: 0.9777\n",
      "Epoch 50/200\n",
      "1875/1875 [==============================] - 3s 1ms/step - loss: 0.0050 - acc: 0.9984 - val_loss: 0.1216 - val_acc: 0.9761\n",
      "Epoch 51/200\n",
      "1875/1875 [==============================] - 3s 2ms/step - loss: 0.0057 - acc: 0.9981 - val_loss: 0.1194 - val_acc: 0.9780\n",
      "Epoch 52/200\n",
      "1875/1875 [==============================] - 3s 1ms/step - loss: 0.0035 - acc: 0.9988 - val_loss: 0.1160 - val_acc: 0.9782\n",
      "Epoch 53/200\n",
      "1875/1875 [==============================] - 3s 2ms/step - loss: 0.0057 - acc: 0.9981 - val_loss: 0.1208 - val_acc: 0.9775\n",
      "Epoch 54/200\n",
      "1875/1875 [==============================] - 3s 1ms/step - loss: 0.0039 - acc: 0.9987 - val_loss: 0.1185 - val_acc: 0.9783\n",
      "Epoch 55/200\n",
      "1875/1875 [==============================] - 3s 2ms/step - loss: 0.0046 - acc: 0.9984 - val_loss: 0.1262 - val_acc: 0.9766\n",
      "Epoch 56/200\n",
      "1875/1875 [==============================] - 3s 1ms/step - loss: 0.0039 - acc: 0.9986 - val_loss: 0.1257 - val_acc: 0.9779\n",
      "Epoch 57/200\n",
      "1875/1875 [==============================] - 3s 1ms/step - loss: 0.0036 - acc: 0.9988 - val_loss: 0.1287 - val_acc: 0.9768\n",
      "Epoch 58/200\n",
      "1875/1875 [==============================] - 3s 1ms/step - loss: 0.0043 - acc: 0.9984 - val_loss: 0.1243 - val_acc: 0.9777\n",
      "Epoch 59/200\n",
      "1875/1875 [==============================] - 3s 2ms/step - loss: 0.0042 - acc: 0.9986 - val_loss: 0.1225 - val_acc: 0.9785\n",
      "Epoch 60/200\n",
      "1875/1875 [==============================] - 3s 2ms/step - loss: 0.0040 - acc: 0.9987 - val_loss: 0.1194 - val_acc: 0.9770\n",
      "Epoch 61/200\n",
      "1875/1875 [==============================] - 3s 2ms/step - loss: 0.0028 - acc: 0.9991 - val_loss: 0.1131 - val_acc: 0.9785\n",
      "Epoch 62/200\n",
      "1875/1875 [==============================] - 3s 2ms/step - loss: 0.0046 - acc: 0.9986 - val_loss: 0.1324 - val_acc: 0.9785\n",
      "Epoch 63/200\n",
      "1875/1875 [==============================] - 2s 1ms/step - loss: 0.0030 - acc: 0.9990 - val_loss: 0.1347 - val_acc: 0.9780\n",
      "Epoch 64/200\n",
      "1875/1875 [==============================] - 3s 1ms/step - loss: 0.0045 - acc: 0.9985 - val_loss: 0.1153 - val_acc: 0.9798\n",
      "Epoch 65/200\n",
      "1875/1875 [==============================] - 3s 1ms/step - loss: 0.0030 - acc: 0.9992 - val_loss: 0.1410 - val_acc: 0.9758\n",
      "Epoch 66/200\n",
      "1875/1875 [==============================] - 3s 2ms/step - loss: 0.0034 - acc: 0.9988 - val_loss: 0.1358 - val_acc: 0.9778\n",
      "Epoch 67/200\n",
      "1875/1875 [==============================] - 3s 1ms/step - loss: 0.0039 - acc: 0.9987 - val_loss: 0.1334 - val_acc: 0.9760\n",
      "Epoch 68/200\n",
      "1875/1875 [==============================] - 3s 1ms/step - loss: 0.0033 - acc: 0.9988 - val_loss: 0.1284 - val_acc: 0.9800\n",
      "Epoch 69/200\n",
      "1875/1875 [==============================] - 3s 2ms/step - loss: 0.0035 - acc: 0.9987 - val_loss: 0.1310 - val_acc: 0.9770\n",
      "Epoch 70/200\n",
      "1875/1875 [==============================] - 3s 1ms/step - loss: 0.0034 - acc: 0.9988 - val_loss: 0.1236 - val_acc: 0.9783\n",
      "Epoch 71/200\n",
      "1875/1875 [==============================] - 3s 1ms/step - loss: 0.0044 - acc: 0.9985 - val_loss: 0.1210 - val_acc: 0.9790\n",
      "Epoch 72/200\n",
      "1875/1875 [==============================] - 3s 1ms/step - loss: 0.0032 - acc: 0.9990 - val_loss: 0.1339 - val_acc: 0.9767\n",
      "Epoch 73/200\n",
      "1875/1875 [==============================] - 3s 1ms/step - loss: 0.0036 - acc: 0.9987 - val_loss: 0.1337 - val_acc: 0.9780\n",
      "Epoch 74/200\n",
      "1875/1875 [==============================] - 3s 1ms/step - loss: 0.0029 - acc: 0.9991 - val_loss: 0.1344 - val_acc: 0.9764\n",
      "Epoch 75/200\n",
      "1875/1875 [==============================] - 2s 1ms/step - loss: 0.0038 - acc: 0.9988 - val_loss: 0.1147 - val_acc: 0.9786\n",
      "Epoch 76/200\n",
      "1875/1875 [==============================] - 3s 1ms/step - loss: 0.0031 - acc: 0.9990 - val_loss: 0.1223 - val_acc: 0.9778\n",
      "Epoch 77/200\n",
      "1875/1875 [==============================] - 3s 1ms/step - loss: 0.0040 - acc: 0.9987 - val_loss: 0.1226 - val_acc: 0.9779\n",
      "Epoch 78/200\n",
      "1875/1875 [==============================] - 3s 1ms/step - loss: 0.0035 - acc: 0.9987 - val_loss: 0.1244 - val_acc: 0.9792\n",
      "Epoch 79/200\n",
      "1875/1875 [==============================] - 3s 1ms/step - loss: 0.0039 - acc: 0.9988 - val_loss: 0.1233 - val_acc: 0.9791\n",
      "Epoch 80/200\n",
      "1875/1875 [==============================] - 3s 2ms/step - loss: 0.0026 - acc: 0.9991 - val_loss: 0.1351 - val_acc: 0.9765\n",
      "Epoch 81/200\n",
      "1875/1875 [==============================] - 3s 2ms/step - loss: 0.0040 - acc: 0.9986 - val_loss: 0.1227 - val_acc: 0.9785\n",
      "Epoch 82/200\n",
      "1875/1875 [==============================] - 3s 2ms/step - loss: 0.0052 - acc: 0.9982 - val_loss: 0.1316 - val_acc: 0.9775\n",
      "Epoch 83/200\n",
      "1875/1875 [==============================] - 3s 1ms/step - loss: 0.0022 - acc: 0.9993 - val_loss: 0.1359 - val_acc: 0.9769\n",
      "Epoch 84/200\n",
      "1875/1875 [==============================] - 3s 2ms/step - loss: 0.0035 - acc: 0.9988 - val_loss: 0.1211 - val_acc: 0.9793\n",
      "Epoch 85/200\n",
      "1875/1875 [==============================] - 3s 1ms/step - loss: 0.0035 - acc: 0.9988 - val_loss: 0.1351 - val_acc: 0.9781\n",
      "Epoch 86/200\n",
      "1875/1875 [==============================] - 3s 1ms/step - loss: 0.0041 - acc: 0.9987 - val_loss: 0.1343 - val_acc: 0.9778\n",
      "Epoch 87/200\n",
      "1875/1875 [==============================] - 3s 1ms/step - loss: 0.0032 - acc: 0.9989 - val_loss: 0.1257 - val_acc: 0.9787\n",
      "Epoch 88/200\n",
      "1875/1875 [==============================] - 3s 1ms/step - loss: 0.0020 - acc: 0.9992 - val_loss: 0.1456 - val_acc: 0.9776\n",
      "Epoch 89/200\n",
      "1875/1875 [==============================] - 3s 2ms/step - loss: 0.0038 - acc: 0.9988 - val_loss: 0.1433 - val_acc: 0.9776\n",
      "Epoch 90/200\n",
      "1875/1875 [==============================] - 3s 2ms/step - loss: 0.0045 - acc: 0.9985 - val_loss: 0.1322 - val_acc: 0.9763\n",
      "Epoch 91/200\n",
      "1875/1875 [==============================] - 3s 1ms/step - loss: 0.0026 - acc: 0.9991 - val_loss: 0.1320 - val_acc: 0.9771\n",
      "Epoch 92/200\n",
      "1875/1875 [==============================] - 3s 1ms/step - loss: 0.0033 - acc: 0.9990 - val_loss: 0.1294 - val_acc: 0.9780\n",
      "Epoch 93/200\n",
      "1875/1875 [==============================] - 3s 1ms/step - loss: 0.0018 - acc: 0.9994 - val_loss: 0.1220 - val_acc: 0.9793\n",
      "Epoch 94/200\n",
      "1875/1875 [==============================] - 3s 1ms/step - loss: 0.0023 - acc: 0.9994 - val_loss: 0.1358 - val_acc: 0.9781\n",
      "Epoch 95/200\n",
      "1875/1875 [==============================] - 3s 2ms/step - loss: 0.0047 - acc: 0.9987 - val_loss: 0.1300 - val_acc: 0.9771\n",
      "Epoch 96/200\n",
      "1875/1875 [==============================] - 3s 2ms/step - loss: 0.0041 - acc: 0.9987 - val_loss: 0.1232 - val_acc: 0.9794\n",
      "Epoch 97/200\n",
      "1875/1875 [==============================] - 3s 2ms/step - loss: 0.0017 - acc: 0.9995 - val_loss: 0.1438 - val_acc: 0.9778\n",
      "Epoch 98/200\n",
      "1875/1875 [==============================] - 3s 1ms/step - loss: 0.0033 - acc: 0.9987 - val_loss: 0.1436 - val_acc: 0.9775\n",
      "Epoch 99/200\n",
      "1875/1875 [==============================] - 3s 2ms/step - loss: 0.0033 - acc: 0.9989 - val_loss: 0.1322 - val_acc: 0.9769\n",
      "Epoch 100/200\n",
      "1875/1875 [==============================] - 3s 1ms/step - loss: 0.0037 - acc: 0.9988 - val_loss: 0.1429 - val_acc: 0.9781\n",
      "Epoch 101/200\n",
      "1875/1875 [==============================] - 3s 1ms/step - loss: 0.0019 - acc: 0.9995 - val_loss: 0.1460 - val_acc: 0.9781\n",
      "Epoch 102/200\n",
      "1875/1875 [==============================] - 3s 2ms/step - loss: 0.0027 - acc: 0.9992 - val_loss: 0.1302 - val_acc: 0.9782\n",
      "Epoch 103/200\n",
      "1875/1875 [==============================] - 3s 1ms/step - loss: 0.0043 - acc: 0.9985 - val_loss: 0.1295 - val_acc: 0.9771\n",
      "Epoch 104/200\n",
      "1875/1875 [==============================] - 3s 2ms/step - loss: 0.0032 - acc: 0.9990 - val_loss: 0.1362 - val_acc: 0.9775\n",
      "Epoch 105/200\n",
      "1875/1875 [==============================] - 3s 2ms/step - loss: 0.0038 - acc: 0.9985 - val_loss: 0.1261 - val_acc: 0.9779\n",
      "Epoch 106/200\n",
      "1875/1875 [==============================] - 3s 1ms/step - loss: 0.0032 - acc: 0.9990 - val_loss: 0.1396 - val_acc: 0.9785\n",
      "Epoch 107/200\n",
      "1875/1875 [==============================] - 3s 2ms/step - loss: 0.0013 - acc: 0.9996 - val_loss: 0.1502 - val_acc: 0.9759\n",
      "Epoch 108/200\n",
      "1875/1875 [==============================] - 3s 1ms/step - loss: 0.0039 - acc: 0.9986 - val_loss: 0.1286 - val_acc: 0.9782\n",
      "Epoch 109/200\n",
      "1875/1875 [==============================] - 3s 1ms/step - loss: 0.0019 - acc: 0.9994 - val_loss: 0.1247 - val_acc: 0.9796\n",
      "Epoch 110/200\n",
      "1875/1875 [==============================] - 3s 1ms/step - loss: 0.0023 - acc: 0.9992 - val_loss: 0.1254 - val_acc: 0.9781\n",
      "Epoch 111/200\n",
      "1875/1875 [==============================] - 2s 1ms/step - loss: 0.0038 - acc: 0.9987 - val_loss: 0.1432 - val_acc: 0.9779\n",
      "Epoch 112/200\n",
      "1875/1875 [==============================] - 3s 1ms/step - loss: 0.0022 - acc: 0.9992 - val_loss: 0.1449 - val_acc: 0.9784\n",
      "Epoch 113/200\n",
      "1875/1875 [==============================] - 3s 1ms/step - loss: 0.0019 - acc: 0.9992 - val_loss: 0.1388 - val_acc: 0.9775\n",
      "Epoch 114/200\n",
      "1875/1875 [==============================] - 3s 2ms/step - loss: 0.0031 - acc: 0.9989 - val_loss: 0.1257 - val_acc: 0.9794\n",
      "Epoch 115/200\n",
      "1875/1875 [==============================] - 3s 1ms/step - loss: 0.0027 - acc: 0.9991 - val_loss: 0.1299 - val_acc: 0.9786\n",
      "Epoch 116/200\n",
      "1875/1875 [==============================] - 3s 1ms/step - loss: 0.0032 - acc: 0.9990 - val_loss: 0.1408 - val_acc: 0.9778\n",
      "Epoch 117/200\n",
      "1875/1875 [==============================] - 3s 1ms/step - loss: 0.0037 - acc: 0.9987 - val_loss: 0.1395 - val_acc: 0.9760\n",
      "Epoch 118/200\n",
      "1875/1875 [==============================] - 3s 1ms/step - loss: 0.0035 - acc: 0.9989 - val_loss: 0.1335 - val_acc: 0.9777\n",
      "Epoch 119/200\n",
      "1875/1875 [==============================] - 3s 1ms/step - loss: 0.0021 - acc: 0.9993 - val_loss: 0.1213 - val_acc: 0.9812\n",
      "Epoch 120/200\n",
      "1875/1875 [==============================] - 3s 1ms/step - loss: 0.0027 - acc: 0.9991 - val_loss: 0.1358 - val_acc: 0.9785\n",
      "Epoch 121/200\n",
      "1875/1875 [==============================] - 3s 1ms/step - loss: 0.0038 - acc: 0.9988 - val_loss: 0.1568 - val_acc: 0.9759\n",
      "Epoch 122/200\n",
      "1875/1875 [==============================] - 3s 1ms/step - loss: 0.0034 - acc: 0.9989 - val_loss: 0.1539 - val_acc: 0.9779\n",
      "Epoch 123/200\n",
      "1875/1875 [==============================] - 3s 1ms/step - loss: 0.0019 - acc: 0.9994 - val_loss: 0.1503 - val_acc: 0.9776\n",
      "Epoch 124/200\n",
      "1875/1875 [==============================] - 3s 2ms/step - loss: 0.0034 - acc: 0.9989 - val_loss: 0.1595 - val_acc: 0.9773\n",
      "Epoch 125/200\n",
      "1875/1875 [==============================] - 3s 1ms/step - loss: 0.0041 - acc: 0.9985 - val_loss: 0.1584 - val_acc: 0.9761\n",
      "Epoch 126/200\n",
      "1875/1875 [==============================] - 3s 1ms/step - loss: 0.0028 - acc: 0.9991 - val_loss: 0.1482 - val_acc: 0.9779\n",
      "Epoch 127/200\n",
      "1875/1875 [==============================] - 3s 1ms/step - loss: 0.0021 - acc: 0.9993 - val_loss: 0.1439 - val_acc: 0.9770\n",
      "Epoch 128/200\n",
      "1875/1875 [==============================] - 3s 1ms/step - loss: 0.0030 - acc: 0.9988 - val_loss: 0.1473 - val_acc: 0.9798\n",
      "Epoch 129/200\n",
      "1875/1875 [==============================] - 3s 1ms/step - loss: 0.0019 - acc: 0.9994 - val_loss: 0.1493 - val_acc: 0.9769\n",
      "Epoch 130/200\n",
      "1875/1875 [==============================] - 3s 1ms/step - loss: 0.0032 - acc: 0.9990 - val_loss: 0.1632 - val_acc: 0.9771\n",
      "Epoch 131/200\n",
      "1875/1875 [==============================] - 3s 1ms/step - loss: 0.0019 - acc: 0.9994 - val_loss: 0.1384 - val_acc: 0.9779\n",
      "Epoch 132/200\n",
      "1875/1875 [==============================] - 3s 1ms/step - loss: 0.0023 - acc: 0.9991 - val_loss: 0.1494 - val_acc: 0.9778\n",
      "Epoch 133/200\n",
      "1875/1875 [==============================] - 3s 1ms/step - loss: 0.0035 - acc: 0.9990 - val_loss: 0.1437 - val_acc: 0.9774\n",
      "Epoch 134/200\n",
      "1875/1875 [==============================] - 3s 2ms/step - loss: 0.0038 - acc: 0.9987 - val_loss: 0.1410 - val_acc: 0.9779\n",
      "Epoch 135/200\n",
      "1875/1875 [==============================] - 3s 2ms/step - loss: 0.0023 - acc: 0.9992 - val_loss: 0.1496 - val_acc: 0.9768\n",
      "Epoch 136/200\n",
      "1875/1875 [==============================] - 3s 2ms/step - loss: 0.0020 - acc: 0.9993 - val_loss: 0.1415 - val_acc: 0.9783\n",
      "Epoch 137/200\n",
      "1875/1875 [==============================] - 3s 2ms/step - loss: 0.0034 - acc: 0.9987 - val_loss: 0.1428 - val_acc: 0.9775\n",
      "Epoch 138/200\n",
      "1875/1875 [==============================] - 3s 2ms/step - loss: 0.0032 - acc: 0.9990 - val_loss: 0.1312 - val_acc: 0.9787\n",
      "Epoch 139/200\n",
      "1875/1875 [==============================] - 3s 2ms/step - loss: 0.0016 - acc: 0.9995 - val_loss: 0.1363 - val_acc: 0.9772\n",
      "Epoch 140/200\n",
      "1875/1875 [==============================] - 3s 2ms/step - loss: 0.0022 - acc: 0.9994 - val_loss: 0.1443 - val_acc: 0.9768\n",
      "Epoch 141/200\n",
      "1875/1875 [==============================] - 3s 1ms/step - loss: 0.0039 - acc: 0.9988 - val_loss: 0.1392 - val_acc: 0.9773\n",
      "Epoch 142/200\n",
      "1875/1875 [==============================] - 3s 2ms/step - loss: 0.0026 - acc: 0.9991 - val_loss: 0.1417 - val_acc: 0.9782\n",
      "Epoch 143/200\n",
      "1875/1875 [==============================] - 3s 2ms/step - loss: 0.0022 - acc: 0.9994 - val_loss: 0.1427 - val_acc: 0.9783\n",
      "Epoch 144/200\n",
      "1875/1875 [==============================] - 3s 1ms/step - loss: 0.0043 - acc: 0.9988 - val_loss: 0.1427 - val_acc: 0.9781\n",
      "Epoch 145/200\n",
      "1875/1875 [==============================] - 3s 2ms/step - loss: 0.0025 - acc: 0.9992 - val_loss: 0.1433 - val_acc: 0.9788\n",
      "Epoch 146/200\n",
      "1875/1875 [==============================] - 3s 1ms/step - loss: 0.0022 - acc: 0.9992 - val_loss: 0.1337 - val_acc: 0.9791\n",
      "Epoch 147/200\n",
      "1875/1875 [==============================] - 3s 1ms/step - loss: 0.0034 - acc: 0.9989 - val_loss: 0.1592 - val_acc: 0.9774\n",
      "Epoch 148/200\n",
      "1875/1875 [==============================] - 3s 1ms/step - loss: 0.0030 - acc: 0.9989 - val_loss: 0.1544 - val_acc: 0.9766\n",
      "Epoch 149/200\n",
      "1875/1875 [==============================] - 3s 1ms/step - loss: 0.0026 - acc: 0.9990 - val_loss: 0.1636 - val_acc: 0.9776\n",
      "Epoch 150/200\n",
      "1875/1875 [==============================] - 3s 1ms/step - loss: 0.0031 - acc: 0.9990 - val_loss: 0.1415 - val_acc: 0.9785\n",
      "Epoch 151/200\n",
      "1875/1875 [==============================] - 3s 1ms/step - loss: 0.0019 - acc: 0.9994 - val_loss: 0.1499 - val_acc: 0.9778\n",
      "Epoch 152/200\n",
      "1875/1875 [==============================] - 3s 1ms/step - loss: 0.0023 - acc: 0.9992 - val_loss: 0.1497 - val_acc: 0.9779\n",
      "Epoch 153/200\n",
      "1875/1875 [==============================] - 3s 1ms/step - loss: 0.0025 - acc: 0.9992 - val_loss: 0.1436 - val_acc: 0.9790\n",
      "Epoch 154/200\n",
      "1875/1875 [==============================] - 3s 1ms/step - loss: 0.0027 - acc: 0.9990 - val_loss: 0.1442 - val_acc: 0.9798\n",
      "Epoch 155/200\n",
      "1875/1875 [==============================] - 3s 1ms/step - loss: 0.0017 - acc: 0.9995 - val_loss: 0.1576 - val_acc: 0.9773\n",
      "Epoch 156/200\n",
      "1875/1875 [==============================] - 3s 2ms/step - loss: 0.0035 - acc: 0.9988 - val_loss: 0.1440 - val_acc: 0.9803\n",
      "Epoch 157/200\n",
      "1875/1875 [==============================] - 3s 2ms/step - loss: 0.0022 - acc: 0.9993 - val_loss: 0.1383 - val_acc: 0.9786\n",
      "Epoch 158/200\n",
      "1875/1875 [==============================] - 3s 1ms/step - loss: 0.0016 - acc: 0.9995 - val_loss: 0.1441 - val_acc: 0.9791\n",
      "Epoch 159/200\n",
      "1875/1875 [==============================] - 3s 1ms/step - loss: 0.0026 - acc: 0.9992 - val_loss: 0.1499 - val_acc: 0.9764\n",
      "Epoch 160/200\n",
      "1875/1875 [==============================] - 3s 1ms/step - loss: 0.0025 - acc: 0.9992 - val_loss: 0.1460 - val_acc: 0.9806\n",
      "Epoch 161/200\n",
      "1875/1875 [==============================] - 3s 1ms/step - loss: 0.0023 - acc: 0.9992 - val_loss: 0.1574 - val_acc: 0.9781\n",
      "Epoch 162/200\n",
      "1875/1875 [==============================] - 3s 1ms/step - loss: 0.0022 - acc: 0.9992 - val_loss: 0.1609 - val_acc: 0.9770\n",
      "Epoch 163/200\n",
      "1875/1875 [==============================] - 3s 1ms/step - loss: 0.0032 - acc: 0.9988 - val_loss: 0.1465 - val_acc: 0.9794\n",
      "Epoch 164/200\n",
      "1875/1875 [==============================] - 3s 1ms/step - loss: 0.0036 - acc: 0.9989 - val_loss: 0.1603 - val_acc: 0.9776\n",
      "Epoch 165/200\n",
      "1875/1875 [==============================] - 3s 1ms/step - loss: 0.0033 - acc: 0.9989 - val_loss: 0.1460 - val_acc: 0.9783\n",
      "Epoch 166/200\n",
      "1875/1875 [==============================] - 3s 1ms/step - loss: 0.0022 - acc: 0.9993 - val_loss: 0.1493 - val_acc: 0.9786\n",
      "Epoch 167/200\n",
      "1875/1875 [==============================] - 3s 1ms/step - loss: 0.0022 - acc: 0.9993 - val_loss: 0.1478 - val_acc: 0.9778\n",
      "Epoch 168/200\n",
      "1875/1875 [==============================] - 3s 1ms/step - loss: 0.0033 - acc: 0.9988 - val_loss: 0.1646 - val_acc: 0.9781\n",
      "Epoch 169/200\n",
      "1875/1875 [==============================] - 3s 2ms/step - loss: 0.0022 - acc: 0.9990 - val_loss: 0.1578 - val_acc: 0.9790\n",
      "Epoch 170/200\n",
      "1875/1875 [==============================] - 3s 1ms/step - loss: 0.0011 - acc: 0.9998 - val_loss: 0.1640 - val_acc: 0.9776\n",
      "Epoch 171/200\n",
      "1875/1875 [==============================] - 3s 1ms/step - loss: 0.0029 - acc: 0.9991 - val_loss: 0.1631 - val_acc: 0.9769\n",
      "Epoch 172/200\n",
      "1875/1875 [==============================] - 3s 1ms/step - loss: 0.0025 - acc: 0.9992 - val_loss: 0.1581 - val_acc: 0.9781\n",
      "Epoch 173/200\n",
      "1875/1875 [==============================] - 3s 1ms/step - loss: 0.0024 - acc: 0.9990 - val_loss: 0.1513 - val_acc: 0.9792\n",
      "Epoch 174/200\n",
      "1875/1875 [==============================] - 3s 1ms/step - loss: 0.0017 - acc: 0.9995 - val_loss: 0.1513 - val_acc: 0.9785\n",
      "Epoch 175/200\n",
      "1875/1875 [==============================] - 3s 1ms/step - loss: 0.0027 - acc: 0.9991 - val_loss: 0.1662 - val_acc: 0.9762\n",
      "Epoch 176/200\n",
      "1875/1875 [==============================] - 3s 1ms/step - loss: 0.0025 - acc: 0.9991 - val_loss: 0.1662 - val_acc: 0.9763\n",
      "Epoch 177/200\n",
      "1875/1875 [==============================] - 3s 1ms/step - loss: 0.0027 - acc: 0.9991 - val_loss: 0.1690 - val_acc: 0.9757\n",
      "Epoch 178/200\n",
      "1875/1875 [==============================] - 3s 1ms/step - loss: 0.0021 - acc: 0.9994 - val_loss: 0.1578 - val_acc: 0.9781\n",
      "Epoch 179/200\n",
      "1875/1875 [==============================] - 3s 1ms/step - loss: 0.0018 - acc: 0.9995 - val_loss: 0.1564 - val_acc: 0.9793\n",
      "Epoch 180/200\n",
      "1875/1875 [==============================] - 3s 1ms/step - loss: 0.0023 - acc: 0.9993 - val_loss: 0.1717 - val_acc: 0.9772\n",
      "Epoch 181/200\n",
      "1875/1875 [==============================] - 3s 1ms/step - loss: 0.0024 - acc: 0.9993 - val_loss: 0.1608 - val_acc: 0.9786\n",
      "Epoch 182/200\n",
      "1875/1875 [==============================] - 3s 1ms/step - loss: 0.0015 - acc: 0.9995 - val_loss: 0.1618 - val_acc: 0.9782\n",
      "Epoch 183/200\n",
      "1875/1875 [==============================] - 3s 1ms/step - loss: 0.0024 - acc: 0.9991 - val_loss: 0.1740 - val_acc: 0.9771\n",
      "Epoch 184/200\n",
      "1875/1875 [==============================] - 3s 1ms/step - loss: 0.0023 - acc: 0.9991 - val_loss: 0.1585 - val_acc: 0.9775\n",
      "Epoch 185/200\n",
      "1875/1875 [==============================] - 3s 1ms/step - loss: 0.0019 - acc: 0.9993 - val_loss: 0.1661 - val_acc: 0.9780\n",
      "Epoch 186/200\n",
      "1875/1875 [==============================] - 3s 1ms/step - loss: 0.0025 - acc: 0.9991 - val_loss: 0.1764 - val_acc: 0.9767\n",
      "Epoch 187/200\n",
      "1875/1875 [==============================] - 3s 1ms/step - loss: 0.0021 - acc: 0.9993 - val_loss: 0.1802 - val_acc: 0.9759\n",
      "Epoch 188/200\n",
      "1875/1875 [==============================] - 3s 1ms/step - loss: 0.0040 - acc: 0.9987 - val_loss: 0.1610 - val_acc: 0.9776\n",
      "Epoch 189/200\n",
      "1875/1875 [==============================] - 3s 1ms/step - loss: 0.0020 - acc: 0.9992 - val_loss: 0.1664 - val_acc: 0.9785\n",
      "Epoch 190/200\n",
      "1875/1875 [==============================] - 3s 1ms/step - loss: 0.0020 - acc: 0.9992 - val_loss: 0.1568 - val_acc: 0.9783\n",
      "Epoch 191/200\n",
      "1875/1875 [==============================] - 3s 1ms/step - loss: 0.0015 - acc: 0.9995 - val_loss: 0.1577 - val_acc: 0.9793\n",
      "Epoch 192/200\n",
      "1875/1875 [==============================] - 3s 1ms/step - loss: 0.0012 - acc: 0.9996 - val_loss: 0.1806 - val_acc: 0.9745\n",
      "Epoch 193/200\n",
      "1875/1875 [==============================] - 3s 1ms/step - loss: 0.0032 - acc: 0.9990 - val_loss: 0.1745 - val_acc: 0.9772\n",
      "Epoch 194/200\n",
      "1875/1875 [==============================] - 3s 1ms/step - loss: 0.0024 - acc: 0.9993 - val_loss: 0.1754 - val_acc: 0.9773\n",
      "Epoch 195/200\n",
      "1875/1875 [==============================] - 3s 1ms/step - loss: 0.0017 - acc: 0.9994 - val_loss: 0.1575 - val_acc: 0.9800\n",
      "Epoch 196/200\n",
      "1875/1875 [==============================] - 3s 1ms/step - loss: 0.0011 - acc: 0.9997 - val_loss: 0.1702 - val_acc: 0.9770\n",
      "Epoch 197/200\n",
      "1875/1875 [==============================] - 3s 2ms/step - loss: 0.0026 - acc: 0.9991 - val_loss: 0.1704 - val_acc: 0.9789\n",
      "Epoch 198/200\n",
      "1875/1875 [==============================] - 3s 1ms/step - loss: 0.0019 - acc: 0.9994 - val_loss: 0.1739 - val_acc: 0.9770\n",
      "Epoch 199/200\n",
      "1875/1875 [==============================] - 3s 1ms/step - loss: 0.0021 - acc: 0.9993 - val_loss: 0.1634 - val_acc: 0.9777\n",
      "Epoch 200/200\n",
      "1875/1875 [==============================] - 3s 1ms/step - loss: 0.0027 - acc: 0.9991 - val_loss: 0.1713 - val_acc: 0.9779\n"
     ]
    },
    {
     "data": {
      "text/plain": "<keras.callbacks.History at 0x28bd8cfb760>"
     },
     "execution_count": 20,
     "metadata": {},
     "output_type": "execute_result"
    }
   ],
   "source": [
    "# Overfitted Model\n",
    "model = keras.Sequential()\n",
    "model.add(keras.Input(shape=(28,28,)))\n",
    "model.add(keras.layers.Flatten())\n",
    "model.add(keras.layers.Dense(200, activation='tanh'))\n",
    "model.add(keras.layers.Dense(100, activation='tanh'))\n",
    "model.add(keras.layers.Dense(10))\n",
    "\n",
    "\n",
    "# Apply loss function and optimizer, then compile the model\n",
    "loss_fn = keras.losses.SparseCategoricalCrossentropy(from_logits=True)\n",
    "optimizer = keras.optimizers.Adam()\n",
    "model.compile(optimizer=optimizer, loss=loss_fn, metrics=[\"acc\"])\n",
    "\n",
    "# Train the model on dataset for given epochs\n",
    "model.fit(x_train, y_train, batch_size=32, epochs=200, validation_data=(x_test, y_test))"
   ],
   "metadata": {
    "collapsed": false
   }
  },
  {
   "cell_type": "code",
   "execution_count": 33,
   "outputs": [
    {
     "name": "stdout",
     "output_type": "stream",
     "text": [
      "94/94 [==============================] - 1s 7ms/step - loss: 0.7113 - acc: 0.7930 - val_loss: 0.4138 - val_acc: 0.8770\n"
     ]
    },
    {
     "data": {
      "text/plain": "<keras.callbacks.History at 0x28bb77d1520>"
     },
     "execution_count": 33,
     "metadata": {},
     "output_type": "execute_result"
    }
   ],
   "source": [
    "dataset_size = len(x_train)\n",
    "indices = np.random.choice(dataset_size, dataset_size//20, replace=False)\n",
    "\n",
    "x_train_subset = x_train[indices]\n",
    "y_train_subset = y_train[indices]\n",
    "\n",
    "# Overfitted Model\n",
    "model = keras.Sequential()\n",
    "model.add(keras.Input(shape=(28,28,)))\n",
    "model.add(keras.layers.Flatten())\n",
    "model.add(keras.layers.Dense(200, activation='tanh'))\n",
    "model.add(keras.layers.Dense(100, activation='tanh'))\n",
    "model.add(keras.layers.Dense(10))\n",
    "\n",
    "\n",
    "# Apply loss function and optimizer, then compile the model\n",
    "loss_fn = keras.losses.SparseCategoricalCrossentropy(from_logits=True)\n",
    "optimizer = keras.optimizers.Adam()\n",
    "model.compile(optimizer=optimizer, loss=loss_fn, metrics=[\"acc\"])\n",
    "\n",
    "# Train the model on dataset for given epochs\n",
    "model.fit(x_train_subset, y_train_subset, batch_size=32, epochs=1, validation_data=(x_test, y_test))"
   ],
   "metadata": {
    "collapsed": false
   }
  },
  {
   "cell_type": "code",
   "execution_count": 32,
   "outputs": [
    {
     "data": {
      "text/plain": "1875"
     },
     "execution_count": 32,
     "metadata": {},
     "output_type": "execute_result"
    }
   ],
   "source": [
    "len(small_dataset)"
   ],
   "metadata": {
    "collapsed": false
   }
  },
  {
   "cell_type": "code",
   "execution_count": 4,
   "outputs": [
    {
     "name": "stdout",
     "output_type": "stream",
     "text": [
      "(60000, 28, 28) (60000,)\n"
     ]
    }
   ],
   "source": [
    "print(x_train.shape, y_train.shape)"
   ],
   "metadata": {
    "collapsed": false
   }
  },
  {
   "cell_type": "code",
   "execution_count": 25,
   "outputs": [],
   "source": [
    "# Apply loss function and optimizer, then compile the model\n",
    "loss_fn = keras.losses.SparseCategoricalCrossentropy(from_logits=True)\n",
    "optimizer = keras.optimizers.Adam()\n",
    "model.compile(optimizer=optimizer, loss=loss_fn, metrics=[\"acc\"])"
   ],
   "metadata": {
    "collapsed": false,
    "ExecuteTime": {
     "end_time": "2024-04-30T10:23:32.061583Z",
     "start_time": "2024-04-30T10:23:32.021134Z"
    }
   }
  },
  {
   "cell_type": "code",
   "execution_count": 26,
   "outputs": [
    {
     "name": "stdout",
     "output_type": "stream",
     "text": [
      "Epoch 1/10\n",
      "1875/1875 [==============================] - 3s 1ms/step - loss: 0.8893 - acc: 0.8148 - val_loss: 0.3177 - val_acc: 0.9103\n",
      "Epoch 2/10\n",
      "1875/1875 [==============================] - 3s 1ms/step - loss: 0.3112 - acc: 0.9117 - val_loss: 0.2706 - val_acc: 0.9221\n",
      "Epoch 3/10\n",
      "1875/1875 [==============================] - 3s 1ms/step - loss: 0.2071 - acc: 0.9400 - val_loss: 0.1602 - val_acc: 0.9517\n",
      "Epoch 4/10\n",
      "1875/1875 [==============================] - 3s 1ms/step - loss: 0.1361 - acc: 0.9595 - val_loss: 0.1239 - val_acc: 0.9623\n",
      "Epoch 5/10\n",
      "1875/1875 [==============================] - 3s 1ms/step - loss: 0.0999 - acc: 0.9694 - val_loss: 0.1406 - val_acc: 0.9582\n",
      "Epoch 6/10\n",
      "1875/1875 [==============================] - 3s 1ms/step - loss: 0.0794 - acc: 0.9755 - val_loss: 0.0963 - val_acc: 0.9701\n",
      "Epoch 7/10\n",
      "1875/1875 [==============================] - 3s 1ms/step - loss: 0.0625 - acc: 0.9803 - val_loss: 0.0911 - val_acc: 0.9737\n",
      "Epoch 8/10\n",
      "1875/1875 [==============================] - 3s 1ms/step - loss: 0.0487 - acc: 0.9844 - val_loss: 0.0860 - val_acc: 0.9746\n",
      "Epoch 9/10\n",
      "1875/1875 [==============================] - 3s 1ms/step - loss: 0.0403 - acc: 0.9869 - val_loss: 0.0982 - val_acc: 0.9755\n",
      "Epoch 10/10\n",
      "1875/1875 [==============================] - 3s 1ms/step - loss: 0.0336 - acc: 0.9893 - val_loss: 0.1063 - val_acc: 0.9750\n"
     ]
    },
    {
     "data": {
      "text/plain": "<keras.callbacks.History at 0x1c612fad4f0>"
     },
     "execution_count": 26,
     "metadata": {},
     "output_type": "execute_result"
    }
   ],
   "source": [
    "# Train the model on dataset for given epochs\n",
    "model.fit(x_train, y_train, batch_size=32, epochs=10, validation_data=(x_test, y_test))"
   ],
   "metadata": {
    "collapsed": false,
    "ExecuteTime": {
     "end_time": "2024-04-30T10:25:00.462768Z",
     "start_time": "2024-04-30T10:23:33.077179Z"
    }
   }
  },
  {
   "cell_type": "code",
   "execution_count": 34,
   "outputs": [
    {
     "name": "stdout",
     "output_type": "stream",
     "text": [
      "Anzahl der \"toten\" Neuronen: 0\n"
     ]
    }
   ],
   "source": [
    "#first_layer_weights = model.layers[3].get_weights()[0]\n",
    "#dead_neurons = np.sum(np.all(first_layer_weights <= 0, axis=0))\n",
    "#print(f'Anzahl der \"toten\" Neuronen: {dead_neurons}')"
   ],
   "metadata": {
    "collapsed": false
   }
  },
  {
   "cell_type": "code",
   "execution_count": 34,
   "outputs": [],
   "source": [
    "# Save the model at the correct path\n",
    "name = \"two_layer_mlp_underfitted\"\n",
    "file_name = name + \".keras\"\n",
    "model.save('saved_models/' + file_name)"
   ],
   "metadata": {
    "collapsed": false,
    "ExecuteTime": {
     "end_time": "2024-04-30T10:25:39.395733Z",
     "start_time": "2024-04-30T10:25:39.339867Z"
    }
   }
  },
  {
   "cell_type": "code",
   "execution_count": 35,
   "outputs": [
    {
     "name": "stdout",
     "output_type": "stream",
     "text": [
      "Starting with calculations\n",
      "Currently at batch: 0\n",
      "Currently at batch: 1\n",
      "Currently at batch: 2\n",
      "Currently at batch: 3\n",
      "Currently at batch: 4\n",
      "Currently at batch: 5\n",
      "Currently at batch: 6\n",
      "Currently at batch: 7\n",
      "Currently at batch: 8\n",
      "Currently at batch: 9\n",
      "Currently at batch: 10\n",
      "Currently at batch: 11\n",
      "Currently at batch: 12\n",
      "Currently at batch: 13\n",
      "Currently at batch: 14\n",
      "Currently at batch: 15\n",
      "Currently at batch: 16\n",
      "Currently at batch: 17\n",
      "Done with calculations. Saving to file.\n",
      "Starting with calculations\n",
      "Currently at batch: 0\n",
      "Currently at batch: 1\n",
      "Currently at batch: 2\n",
      "Currently at batch: 3\n",
      "Currently at batch: 4\n",
      "Currently at batch: 5\n",
      "Currently at batch: 6\n",
      "Currently at batch: 7\n",
      "Currently at batch: 8\n",
      "Currently at batch: 9\n",
      "Currently at batch: 10\n",
      "Currently at batch: 11\n",
      "Currently at batch: 12\n",
      "Currently at batch: 13\n",
      "Currently at batch: 14\n",
      "Currently at batch: 15\n",
      "Currently at batch: 16\n",
      "Currently at batch: 17\n",
      "Done with calculations. Saving to file.\n",
      "Starting with calculations\n",
      "Currently at batch: 0\n",
      "Currently at batch: 1\n",
      "Currently at batch: 2\n",
      "Currently at batch: 3\n",
      "Currently at batch: 4\n",
      "Currently at batch: 5\n",
      "Currently at batch: 6\n",
      "Currently at batch: 7\n",
      "Currently at batch: 8\n",
      "Currently at batch: 9\n",
      "Currently at batch: 10\n",
      "Currently at batch: 11\n",
      "Currently at batch: 12\n",
      "Currently at batch: 13\n",
      "Currently at batch: 14\n",
      "Currently at batch: 15\n",
      "Currently at batch: 16\n",
      "Currently at batch: 17\n",
      "Done with calculations. Saving to file.\n",
      "Done with class 0..\n",
      "Done with class 1..\n",
      "Done with class 2..\n",
      "Done with class 3..\n",
      "Done with class 4..\n",
      "Done with class 5..\n",
      "Done with class 6..\n",
      "Done with class 7..\n",
      "Done with class 8..\n",
      "Done with class 9..\n",
      "Computing overall activation averages..\n",
      "Averaging activation classes..\n",
      "Computing overall signal averages..\n",
      "Averaging signal classes..\n",
      "Saving results..\n",
      "Done\n"
     ]
    }
   ],
   "source": [
    "create_precalculations(name)"
   ],
   "metadata": {
    "collapsed": false,
    "ExecuteTime": {
     "end_time": "2024-05-02T14:10:29.913472Z",
     "start_time": "2024-05-02T14:10:29.226480Z"
    }
   }
  },
  {
   "cell_type": "code",
   "execution_count": 3,
   "outputs": [],
   "source": [
    "model = keras.models.load_model('saved_models/two_layer_mlp_net.keras')"
   ],
   "metadata": {
    "collapsed": false
   }
  },
  {
   "cell_type": "code",
   "execution_count": 15,
   "outputs": [],
   "source": [
    "x, _ = next(iter(dataset))"
   ],
   "metadata": {
    "collapsed": false
   }
  },
  {
   "cell_type": "code",
   "execution_count": 30,
   "outputs": [
    {
     "name": "stdout",
     "output_type": "stream",
     "text": [
      "1/1 [==============================] - 0s 11ms/step\n"
     ]
    }
   ],
   "source": [
    "\n",
    "res = model.predict(x)"
   ],
   "metadata": {
    "collapsed": false
   }
  },
  {
   "cell_type": "code",
   "execution_count": 21,
   "outputs": [
    {
     "data": {
      "text/plain": "<matplotlib.image.AxesImage at 0x19a74156580>"
     },
     "execution_count": 21,
     "metadata": {},
     "output_type": "execute_result"
    },
    {
     "data": {
      "text/plain": "<Figure size 640x480 with 1 Axes>",
      "image/png": "[encoded data removed]"
     },
     "metadata": {},
     "output_type": "display_data"
    }
   ],
   "source": [
    "plt.imshow(x[0])"
   ],
   "metadata": {
    "collapsed": false
   }
  },
  {
   "cell_type": "code",
   "execution_count": 31,
   "outputs": [
    {
     "data": {
      "text/plain": "array([5, 9, 4, 7, 4, 6, 1, 6, 4, 9, 1, 9, 2, 6, 5, 3, 6, 8, 0, 1, 0, 0,\n       4, 3, 1, 1, 3, 2, 0, 3, 0, 7], dtype=int64)"
     },
     "execution_count": 31,
     "metadata": {},
     "output_type": "execute_result"
    }
   ],
   "source": [
    "np.argmax(res, axis=-1)"
   ],
   "metadata": {
    "collapsed": false
   }
  },
  {
   "cell_type": "code",
   "execution_count": 33,
   "outputs": [
    {
     "ename": "ValueError",
     "evalue": "either both or neither of x and y should be given",
     "output_type": "error",
     "traceback": [
      "\u001B[1;31m---------------------------------------------------------------------------\u001B[0m",
      "\u001B[1;31mValueError\u001B[0m                                Traceback (most recent call last)",
      "Cell \u001B[1;32mIn[33], line 1\u001B[0m\n\u001B[1;32m----> 1\u001B[0m \u001B[43mnp\u001B[49m\u001B[38;5;241;43m.\u001B[39;49m\u001B[43mwhere\u001B[49m\u001B[43m(\u001B[49m\u001B[43mnp\u001B[49m\u001B[38;5;241;43m.\u001B[39;49m\u001B[43margmax\u001B[49m\u001B[43m(\u001B[49m\u001B[43mres\u001B[49m\u001B[43m,\u001B[49m\u001B[43m \u001B[49m\u001B[43maxis\u001B[49m\u001B[38;5;241;43m=\u001B[39;49m\u001B[38;5;241;43m-\u001B[39;49m\u001B[38;5;241;43m1\u001B[39;49m\u001B[43m)\u001B[49m\u001B[43m,\u001B[49m\u001B[43m \u001B[49m\u001B[43m_\u001B[49m\u001B[43m)\u001B[49m\n",
      "File \u001B[1;32m<__array_function__ internals>:180\u001B[0m, in \u001B[0;36mwhere\u001B[1;34m(*args, **kwargs)\u001B[0m\n",
      "\u001B[1;31mValueError\u001B[0m: either both or neither of x and y should be given"
     ]
    }
   ],
   "source": [
    "np.where(np.argmax(res, axis=-1), _)"
   ],
   "metadata": {
    "collapsed": false
   }
  },
  {
   "cell_type": "code",
   "execution_count": 11,
   "outputs": [
    {
     "data": {
      "text/plain": "TensorShape([32, 28, 28])"
     },
     "execution_count": 11,
     "metadata": {},
     "output_type": "execute_result"
    }
   ],
   "source": [
    "x.shape"
   ],
   "metadata": {
    "collapsed": false
   }
  },
  {
   "cell_type": "code",
   "execution_count": 10,
   "outputs": [],
   "source": [
    "# Add functions that need to be recomputed after every new model (precalculations)\n",
    "# Add automatic creation of folder\n",
    "def create_precalculations(model_name):\n",
    "    model = keras.models.load_model('saved_models/' + model_name + '.keras')\n",
    "\n",
    "    # Create Folder for precalculations, if it doesn't exist yet.\n",
    "    save_file_path = 'saved_precalculations/' + model_name\n",
    "    try:\n",
    "        os.mkdir(save_file_path)\n",
    "    except OSError as error:\n",
    "        print(error)\n",
    "\n",
    "    create_subset(model, 'saved_precalculations/' + model_name + '/subset_activations_1.pickle')\n",
    "    create_subset(model, 'saved_precalculations/' + model_name + '/subset_activations_2.pickle')\n",
    "    create_subset(model, 'saved_precalculations/' + model_name + '/subset_activations_3.pickle')\n",
    "\n",
    "    calc_class_average_activation_and_signals(model, model_name)\n",
    "\n",
    "    print(\"Done\")"
   ],
   "metadata": {
    "collapsed": false,
    "ExecuteTime": {
     "end_time": "2024-05-02T14:10:27.072042Z",
     "start_time": "2024-05-02T14:10:27.016173Z"
    }
   }
  },
  {
   "cell_type": "code",
   "execution_count": 11,
   "outputs": [],
   "source": [
    "# TODO: Shift these functions to a seperate .py file and import them at the beginning of the nb\n",
    "def create_subset(model, file_path=None):\n",
    "    dataset = (tf.data.Dataset.from_tensor_slices((x_train, y_train)).shuffle(64)).batch(32)\n",
    "\n",
    "    dataset_size = sum(1 for _ in dataset)\n",
    "    one_percent_size = dataset_size // 100\n",
    "\n",
    "    # Take the first 1% of the dataset\n",
    "    one_percent_dataset = dataset.take(one_percent_size)\n",
    "\n",
    "    functions = []\n",
    "    results = []\n",
    "    for i in range(len(model.layers)):\n",
    "        functions.append(K.function([model.layers[i].input],[model.layers[i].output]))\n",
    "\n",
    "    print(\"Starting with calculations\")\n",
    "    for i, (batch, y) in enumerate(one_percent_dataset):\n",
    "        print(\"Currently at batch: \" + str(i))\n",
    "\n",
    "        output = functions[0](batch)\n",
    "        if i == 0:\n",
    "            results.append(np.transpose(np.squeeze(output, axis=0)))\n",
    "        else:\n",
    "            results[0] = np.concatenate([results[0], np.transpose(np.squeeze(output, axis=0))], axis=1)\n",
    "\n",
    "        for j in range(1, len(functions)):\n",
    "            tmp = functions[j](output)\n",
    "            output = tmp\n",
    "            if i == 0:\n",
    "                results.append(np.transpose(np.squeeze(output, axis=0)))\n",
    "            else:\n",
    "                results[j] = np.concatenate([results[j], np.transpose(np.squeeze(output, axis=0))], axis=1)\n",
    "\n",
    "    print(\"Done with calculations. Saving to file.\")\n",
    "\n",
    "    with open(file_path, 'wb') as handle:\n",
    "        pickle.dump(results, handle, protocol=pickle.HIGHEST_PROTOCOL)"
   ],
   "metadata": {
    "collapsed": false,
    "ExecuteTime": {
     "end_time": "2024-05-02T14:09:02.762527Z",
     "start_time": "2024-05-02T14:09:02.746604Z"
    }
   }
  },
  {
   "cell_type": "code",
   "execution_count": 10,
   "outputs": [],
   "source": [
    "def calc_average_activation_and_signals(model, file_path_activation, file_path_signals):\n",
    "    dataset = (tf.data.Dataset.from_tensor_slices((x_train, y_train)).shuffle(64)).batch(32, drop_remainder=True)\n",
    "\n",
    "    functions = []\n",
    "    transposed_weights = []\n",
    "    for i in range(len(model.layers)):\n",
    "        functions.append(K.function([model.layers[i].input],model.layers[i].output))\n",
    "        if len(model.layers[i].get_weights()) == 0:\n",
    "            transposed_weights.append([])\n",
    "        else:\n",
    "            transposed_weights.append(tf.transpose(model.layers[i].get_weights()[0]))\n",
    "\n",
    "    average_signals_per_layer = []\n",
    "    average_activations_per_layer = []\n",
    "    print(\"Starting with calculations\")\n",
    "    for i, (batch, y) in enumerate(dataset):\n",
    "        print(\"Currently at batch: \" + str(i))\n",
    "\n",
    "        output = functions[0](batch)\n",
    "        if i == 0:\n",
    "            average_activations_per_layer.append(tf.expand_dims(tf.reduce_mean(output, axis=0), axis=0))\n",
    "        else:\n",
    "            average_activations_per_layer[0] = np.concatenate([average_activations_per_layer[0], tf.expand_dims(tf.reduce_mean(output, axis=0), axis=0)], axis=0)\n",
    "\n",
    "        for j in range(1, len(functions)):\n",
    "            output = functions[j](output)\n",
    "            if i == 0:\n",
    "                average_activations_per_layer.append(tf.expand_dims(tf.reduce_mean(output, axis=0), axis=0))\n",
    "                average_signals_per_layer.append(tf.expand_dims(tf.reduce_mean(tf.einsum('bi,ij->bji', output, transposed_weights[j]),axis=0), axis=0))\n",
    "            else:\n",
    "                average_activations_per_layer[j] = np.concatenate([average_activations_per_layer[j], tf.expand_dims(tf.reduce_mean(output, axis=0), axis=0)], axis=0)\n",
    "                average_signals_per_layer[j-1] = np.concatenate([average_signals_per_layer[j-1], tf.expand_dims(tf.reduce_mean(tf.einsum('bi,ij->bji', output, transposed_weights[j]),axis=0), axis=0)],axis=0)\n",
    "\n",
    "    print(\"Done with calculations, now averaging results..\")\n",
    "\n",
    "    for index in range(len(average_activations_per_layer)):\n",
    "        average_activations_per_layer[index] = tf.reduce_mean(average_activations_per_layer[index], axis=0).numpy()\n",
    "\n",
    "    for index in range(len(average_signals_per_layer)):\n",
    "        average_signals_per_layer[index] = tf.reduce_mean(average_signals_per_layer[index], axis=0).numpy()\n",
    "\n",
    "    print(\"Done with calculations. Saving to file.\")\n",
    "\n",
    "    with open(file_path_activation, 'wb') as handle:\n",
    "        pickle.dump(average_activations_per_layer, handle, protocol=pickle.HIGHEST_PROTOCOL)\n",
    "\n",
    "    with open(file_path_signals, 'wb') as handle:\n",
    "        pickle.dump(average_signals_per_layer, handle, protocol=pickle.HIGHEST_PROTOCOL)\n",
    "\n",
    "    return"
   ],
   "metadata": {
    "collapsed": false
   }
  },
  {
   "cell_type": "code",
   "execution_count": 12,
   "outputs": [],
   "source": [
    "def calc_average_signal(model, file_path):\n",
    "    dataset = (tf.data.Dataset.from_tensor_slices((x_train, y_train)).shuffle(64)).batch(32)\n",
    "    summed_signal_per_layer = []\n",
    "\n",
    "    print(\"Starting with calculations\")\n",
    "    for i, (batch, _) in enumerate(dataset):\n",
    "        print(\"Currently at batch: \" + str(i))\n",
    "        inputs = batch\n",
    "        for j in range(len(model.layers)-1):\n",
    "            # Compute the activations of the current layer\n",
    "            activations = model.layers[j](inputs)\n",
    "            # Get the weights and biases of the current layer\n",
    "            weights, biases = model.layers[j+1].get_weights()\n",
    "            # Compute the outgoing signals (weight times activation)\n",
    "            expanded_activations = np.expand_dims(activations, axis=-1)\n",
    "            expanded_weights = np.expand_dims(weights, axis=0)\n",
    "            outgoing_signals = expanded_activations * expanded_weights\n",
    "            # Store the outgoing signals for the current layer\n",
    "            if i == 0:\n",
    "                summed_signal_per_layer.append(tf.reduce_sum(outgoing_signals, axis=0))\n",
    "            else:\n",
    "                summed_signal_per_layer[j] += tf.reduce_sum(outgoing_signals, axis=0)\n",
    "            # Update inputs for the next layer\n",
    "            inputs = activations\n",
    "\n",
    "\n",
    "    print(\"Done with calculations, averaging results..\")\n",
    "    average_signal_per_layer = []\n",
    "    for matrix in summed_signal_per_layer:\n",
    "        average_signal_per_layer.append((matrix / x_train.shape[0]).numpy())\n",
    "    with open(file_path, 'wb') as handle:\n",
    "        pickle.dump(average_signal_per_layer, handle, protocol=pickle.HIGHEST_PROTOCOL)\n",
    "    return"
   ],
   "metadata": {
    "collapsed": false
   }
  },
  {
   "cell_type": "code",
   "execution_count": 13,
   "outputs": [],
   "source": [
    "def calc_class_average_activation_and_signals(model, model_name):\n",
    "    (x_train_unnormalized, y_train), (x_test_unnormalized, y_test) = keras.datasets.mnist.load_data()\n",
    "    x_train = x_train_unnormalized / 255.0\n",
    "    x_test = x_test_unnormalized / 255.0\n",
    "    batch_size = 32\n",
    "\n",
    "    functions = []\n",
    "    weights = []\n",
    "\n",
    "    class_average_signals_per_layer = []\n",
    "    class_average_activations_per_layer = []\n",
    "\n",
    "    for i in range(len(model.layers)):\n",
    "        functions.append(K.function([model.layers[i].input],model.layers[i].output))\n",
    "        if len(model.layers[i].get_weights()) > 0:\n",
    "            weights.append(model.layers[i].get_weights()[0])\n",
    "\n",
    "    # 10 is hardcoded for the amount of MNIST classes. In case there is a different model we need to change this part (and the dataloading of course)\n",
    "    for class_index in range (10):\n",
    "        class_images = x_train[y_train==class_index]\n",
    "        dataset = tf.data.Dataset.from_tensor_slices(class_images).batch(batch_size)\n",
    "        class_activations = []\n",
    "        class_signals = []\n",
    "        for i, batch in enumerate(dataset):\n",
    "            output = functions[0](batch)\n",
    "            if i == 0:\n",
    "                class_activations.append(tf.expand_dims(tf.reduce_sum(output, axis=0), axis=0))\n",
    "                class_signals.append(tf.expand_dims(tf.reduce_sum(tf.einsum('bi,ij->bij', output, weights[0]),axis=0), axis=0))\n",
    "            else:\n",
    "                class_activations[0] = tf.add(class_activations[0], tf.expand_dims(tf.reduce_sum(output, axis=0), axis=0))\n",
    "                class_signals[0] = tf.add(class_signals[0], tf.expand_dims(tf.reduce_sum(tf.einsum('bi,ij->bij', output, weights[0]),axis=0), axis=0))\n",
    "\n",
    "            for j in range(1, len(functions)-1):\n",
    "                output = functions[j](output)\n",
    "                if i == 0:\n",
    "                    class_activations.append(tf.expand_dims(tf.reduce_sum(output, axis=0), axis=0))\n",
    "                    class_signals.append(tf.expand_dims(tf.reduce_sum(tf.einsum('bi,ij->bij', output, weights[j]),axis=0), axis=0))\n",
    "                else:\n",
    "                    class_activations[j] = tf.add(class_activations[j], tf.expand_dims(tf.reduce_sum(output, axis=0), axis=0))\n",
    "                    class_signals[j] = tf.add(class_signals[j], tf.expand_dims(tf.reduce_sum(tf.einsum('bi,ij->bij', output, weights[j]),axis=0), axis=0))\n",
    "\n",
    "            output = functions[len(functions)-1](output)\n",
    "            if i == 0:\n",
    "                class_activations.append(tf.expand_dims(tf.reduce_sum(output, axis=0), axis=0))\n",
    "            else:\n",
    "                class_activations[len(functions)-1] = tf.add(class_activations[len(functions)-1], tf.expand_dims(tf.reduce_sum(output, axis=0), axis=0))\n",
    "\n",
    "        print(\"Done with class {}..\".format(str(class_index)))\n",
    "\n",
    "        class_average_activations_per_layer.append(class_activations)\n",
    "        class_average_signals_per_layer.append(class_signals)\n",
    "\n",
    "    print(\"Computing overall activation averages..\")\n",
    "    average_activations_per_layer = []\n",
    "    num_layers = len(class_average_activations_per_layer[0])\n",
    "    for layer_index in range(num_layers):\n",
    "        # Initialisieren Sie einen Tensor, um die summierten Aktivierungen für die aktuelle Schicht zu speichern\n",
    "        summed_activations = tf.zeros_like(class_average_activations_per_layer[0][layer_index])\n",
    "\n",
    "        # Addieren Sie die durchschnittlichen Aktivierungen der aktuellen Schicht über alle Klassen hinweg\n",
    "        for class_activations in class_average_activations_per_layer:\n",
    "            summed_activations = tf.add(summed_activations, class_activations[layer_index])\n",
    "\n",
    "        # Fügen Sie den Durchschnitt der aktuellen Schicht zur Ergebnisliste hinzu\n",
    "        average_activations_per_layer.append(summed_activations)\n",
    "\n",
    "    for layer_index in range(num_layers):\n",
    "        average_activations_per_layer[layer_index] = np.squeeze(tf.divide(average_activations_per_layer[layer_index], x_train.shape[0]).numpy())\n",
    "\n",
    "    print(\"Averaging activation classes..\")\n",
    "    for class_index, class_activations in enumerate(class_average_activations_per_layer):\n",
    "        for layer_index, layer in enumerate(class_activations):\n",
    "            class_average_activations_per_layer[class_index][layer_index] = np.squeeze((tf.divide(layer[0], np.sum(y_train == class_index))).numpy())\n",
    "\n",
    "    print(\"Computing overall signal averages..\")\n",
    "    average_signals_per_layer = []\n",
    "    num_layers = len(class_average_signals_per_layer[0])\n",
    "    for layer_index in range(num_layers):\n",
    "        summed_activations = tf.zeros_like(class_average_signals_per_layer[0][layer_index])\n",
    "\n",
    "        for class_activations in class_average_signals_per_layer:\n",
    "            summed_activations = tf.add(summed_activations, class_activations[layer_index])\n",
    "\n",
    "        average_signals_per_layer.append(summed_activations)\n",
    "\n",
    "    for layer_index in range(num_layers):\n",
    "        average_signals_per_layer[layer_index] = np.squeeze(tf.divide(average_signals_per_layer[layer_index], x_train.shape[0]).numpy())\n",
    "\n",
    "    print(\"Averaging signal classes..\")\n",
    "    for class_index, class_signals in enumerate(class_average_signals_per_layer):\n",
    "        for layer_index, layer in enumerate(class_signals):\n",
    "            class_average_signals_per_layer[class_index][layer_index] = np.squeeze(tf.divide(layer[0], np.sum(y_train == class_index)).numpy())\n",
    "\n",
    "    print(\"Saving results..\")\n",
    "    file_path = 'saved_precalculations/' + model_name + '/average_activations.pickle'\n",
    "    with open(file_path, 'wb') as handle:\n",
    "        pickle.dump(average_activations_per_layer, handle, protocol=pickle.HIGHEST_PROTOCOL)\n",
    "\n",
    "    file_path = 'saved_precalculations/' + model_name + '/average_signals.pickle'\n",
    "    with open(file_path, 'wb') as handle:\n",
    "        pickle.dump(average_signals_per_layer, handle, protocol=pickle.HIGHEST_PROTOCOL)\n",
    "\n",
    "    file_path = 'saved_precalculations/' + model_name + '/class_average_activations.pickle'\n",
    "    with open(file_path, 'wb') as handle:\n",
    "        pickle.dump(class_average_activations_per_layer, handle, protocol=pickle.HIGHEST_PROTOCOL)\n",
    "\n",
    "    file_path = 'saved_precalculations/' + model_name + '/class_average_signals.pickle'\n",
    "    with open(file_path, 'wb') as handle:\n",
    "        pickle.dump(class_average_signals_per_layer, handle, protocol=pickle.HIGHEST_PROTOCOL)\n",
    "\n",
    "    return"
   ],
   "metadata": {
    "collapsed": false
   }
  }
 ],
 "metadata": {
  "kernelspec": {
   "display_name": "Python 3",
   "language": "python",
   "name": "python3"
  },
  "language_info": {
   "codemirror_mode": {
    "name": "ipython",
    "version": 2
   },
   "file_extension": ".py",
   "mimetype": "text/x-python",
   "name": "python",
   "nbconvert_exporter": "python",
   "pygments_lexer": "ipython2",
   "version": "2.7.6"
  }
 },
 "nbformat": 4,
 "nbformat_minor": 0
}
